{
 "cells": [
  {
   "cell_type": "markdown",
   "metadata": {},
   "source": [
    "# Pandas"
   ]
  },
  {
   "cell_type": "code",
   "execution_count": 2,
   "metadata": {},
   "outputs": [],
   "source": [
    "import pandas as pd"
   ]
  },
  {
   "cell_type": "markdown",
   "metadata": {},
   "source": [
    "Pandas har i huvudsak två sorters objekt: `Series` som är en endimensionell datastruktur, och `DataFrame` som är tvådimensionell och påminner om en tabell med rader och kolumner."
   ]
  },
  {
   "cell_type": "code",
   "execution_count": null,
   "metadata": {},
   "outputs": [],
   "source": [
    "data = [2.72, 3.14, 4.02, 23.12]\n",
    "\n",
    "s = pd.Series(data)\n",
    "\n",
    "s"
   ]
  },
  {
   "cell_type": "code",
   "execution_count": null,
   "metadata": {},
   "outputs": [],
   "source": [
    "print(s.sum())  # Summan av värdena i vår Series\n",
    "print(s.mean())  # Medelvärdet av värdena i vår Series\n",
    "print(s.max())  # Det högsta värdet i vår Series\n",
    "print(s.min())  # Det lägsta värdet i vår Series"
   ]
  },
  {
   "cell_type": "code",
   "execution_count": null,
   "metadata": {},
   "outputs": [],
   "source": [
    "df = pd.DataFrame([\n",
    "        [1, 4, 25], \n",
    "        [3, 4, 5], \n",
    "        [8, 9, 12]], columns=['A', 'B', 'C'])\n",
    "\n",
    "df"
   ]
  },
  {
   "cell_type": "code",
   "execution_count": null,
   "metadata": {},
   "outputs": [],
   "source": [
    "df.A\n"
   ]
  },
  {
   "cell_type": "code",
   "execution_count": null,
   "metadata": {},
   "outputs": [],
   "source": [
    "print(df.A.sum())  # Summan av värdena i kolumn A\n",
    "print(df.B.mean())  # Medelvärdet av värdena i kolumn B\n",
    "print(df.C.max())  # Det högsta värdet i kolumn C"
   ]
  },
  {
   "cell_type": "markdown",
   "metadata": {},
   "source": [
    "Vi kan läsa in data från andra källor och skapa `DataFrame`:s. Ett vanligt format är `csv`, *comma separated values*."
   ]
  },
  {
   "cell_type": "code",
   "execution_count": 19,
   "metadata": {},
   "outputs": [],
   "source": [
    "df = pd.read_csv('video_games.csv', index_col=False)  # Läs in data från filen video_games.csv\n"
   ]
  },
  {
   "cell_type": "code",
   "execution_count": null,
   "metadata": {},
   "outputs": [],
   "source": [
    "df"
   ]
  },
  {
   "cell_type": "code",
   "execution_count": null,
   "metadata": {},
   "outputs": [],
   "source": [
    "df.info()"
   ]
  },
  {
   "cell_type": "code",
   "execution_count": 20,
   "metadata": {},
   "outputs": [],
   "source": [
    "df['release_date'] = pd.to_datetime(df['release_date'])  # Ändra datatypen för kolumnen release_date"
   ]
  },
  {
   "cell_type": "code",
   "execution_count": null,
   "metadata": {},
   "outputs": [],
   "source": [
    "df.info()"
   ]
  },
  {
   "cell_type": "code",
   "execution_count": null,
   "metadata": {},
   "outputs": [],
   "source": [
    "df"
   ]
  },
  {
   "cell_type": "code",
   "execution_count": null,
   "metadata": {},
   "outputs": [],
   "source": [
    "df.head(10)"
   ]
  },
  {
   "cell_type": "code",
   "execution_count": null,
   "metadata": {},
   "outputs": [],
   "source": [
    "df.tail(10)"
   ]
  },
  {
   "cell_type": "markdown",
   "metadata": {},
   "source": [
    "Vi kan skriva ut en statistisk sammanfattning av datan med metoden `describe()`."
   ]
  },
  {
   "cell_type": "code",
   "execution_count": null,
   "metadata": {},
   "outputs": [],
   "source": [
    "df.describe()"
   ]
  },
  {
   "cell_type": "markdown",
   "metadata": {},
   "source": [
    "Vi kan välja ut en viss kolumn på två olika sätt."
   ]
  },
  {
   "cell_type": "code",
   "execution_count": null,
   "metadata": {},
   "outputs": [],
   "source": [
    "df['critic_score']"
   ]
  },
  {
   "cell_type": "code",
   "execution_count": null,
   "metadata": {},
   "outputs": [],
   "source": [
    "df.critic_score"
   ]
  },
  {
   "cell_type": "markdown",
   "metadata": {},
   "source": [
    "Pandas-objekt har metoden `plot()` som vi kan använda för att skapa exempelvis lådagram över datan."
   ]
  },
  {
   "cell_type": "code",
   "execution_count": 32,
   "metadata": {},
   "outputs": [
    {
     "data": {
      "text/html": [
       "<div>\n",
       "<style scoped>\n",
       "    .dataframe tbody tr th:only-of-type {\n",
       "        vertical-align: middle;\n",
       "    }\n",
       "\n",
       "    .dataframe tbody tr th {\n",
       "        vertical-align: top;\n",
       "    }\n",
       "\n",
       "    .dataframe thead th {\n",
       "        text-align: right;\n",
       "    }\n",
       "</style>\n",
       "<table border=\"1\" class=\"dataframe\">\n",
       "  <thead>\n",
       "    <tr style=\"text-align: right;\">\n",
       "      <th></th>\n",
       "      <th>critic_score</th>\n",
       "      <th>total_sales</th>\n",
       "      <th>release_date</th>\n",
       "    </tr>\n",
       "  </thead>\n",
       "  <tbody>\n",
       "    <tr>\n",
       "      <th>count</th>\n",
       "      <td>2873.000000</td>\n",
       "      <td>2873.000000</td>\n",
       "      <td>2873</td>\n",
       "    </tr>\n",
       "    <tr>\n",
       "      <th>mean</th>\n",
       "      <td>7.009445</td>\n",
       "      <td>1.058730</td>\n",
       "      <td>2007-05-28 02:28:21.635920640</td>\n",
       "    </tr>\n",
       "    <tr>\n",
       "      <th>min</th>\n",
       "      <td>1.000000</td>\n",
       "      <td>0.000000</td>\n",
       "      <td>1989-06-01 00:00:00</td>\n",
       "    </tr>\n",
       "    <tr>\n",
       "      <th>25%</th>\n",
       "      <td>6.233333</td>\n",
       "      <td>0.110000</td>\n",
       "      <td>2003-10-30 00:00:00</td>\n",
       "    </tr>\n",
       "    <tr>\n",
       "      <th>50%</th>\n",
       "      <td>7.266667</td>\n",
       "      <td>0.320000</td>\n",
       "      <td>2007-09-18 00:00:00</td>\n",
       "    </tr>\n",
       "    <tr>\n",
       "      <th>75%</th>\n",
       "      <td>8.000000</td>\n",
       "      <td>0.900000</td>\n",
       "      <td>2010-06-27 00:00:00</td>\n",
       "    </tr>\n",
       "    <tr>\n",
       "      <th>max</th>\n",
       "      <td>10.000000</td>\n",
       "      <td>48.430000</td>\n",
       "      <td>2020-12-31 00:00:00</td>\n",
       "    </tr>\n",
       "    <tr>\n",
       "      <th>std</th>\n",
       "      <td>1.452588</td>\n",
       "      <td>2.488819</td>\n",
       "      <td>NaN</td>\n",
       "    </tr>\n",
       "  </tbody>\n",
       "</table>\n",
       "</div>"
      ],
      "text/plain": [
       "       critic_score  total_sales                   release_date\n",
       "count   2873.000000  2873.000000                           2873\n",
       "mean       7.009445     1.058730  2007-05-28 02:28:21.635920640\n",
       "min        1.000000     0.000000            1989-06-01 00:00:00\n",
       "25%        6.233333     0.110000            2003-10-30 00:00:00\n",
       "50%        7.266667     0.320000            2007-09-18 00:00:00\n",
       "75%        8.000000     0.900000            2010-06-27 00:00:00\n",
       "max       10.000000    48.430000            2020-12-31 00:00:00\n",
       "std        1.452588     2.488819                            NaN"
      ]
     },
     "execution_count": 32,
     "metadata": {},
     "output_type": "execute_result"
    }
   ],
   "source": [
    "df.describe()"
   ]
  },
  {
   "cell_type": "code",
   "execution_count": 33,
   "metadata": {},
   "outputs": [
    {
     "data": {
      "text/plain": [
       "<Axes: title={'center': 'Critic scores'}>"
      ]
     },
     "execution_count": 33,
     "metadata": {},
     "output_type": "execute_result"
    },
    {
     "data": {
      "image/png": "[encoded data removed]",
      "text/plain": [
       "<Figure size 640x480 with 1 Axes>"
      ]
     },
     "metadata": {},
     "output_type": "display_data"
    }
   ],
   "source": [
    "df.critic_score.plot(kind='box', title=\"Critic scores\")"
   ]
  },
  {
   "cell_type": "markdown",
   "metadata": {},
   "source": [
    "Vi kan sortera datan med `sort_values()`, och få de fem översta raderna med `head()`.\n",
    "\n",
    "`ascending=False` gör att vi sorterar datan fallande, alltså med det högsta värdet först."
   ]
  },
  {
   "cell_type": "code",
   "execution_count": 37,
   "metadata": {},
   "outputs": [
    {
     "data": {
      "text/html": [
       "<div>\n",
       "<style scoped>\n",
       "    .dataframe tbody tr th:only-of-type {\n",
       "        vertical-align: middle;\n",
       "    }\n",
       "\n",
       "    .dataframe tbody tr th {\n",
       "        vertical-align: top;\n",
       "    }\n",
       "\n",
       "    .dataframe thead th {\n",
       "        text-align: right;\n",
       "    }\n",
       "</style>\n",
       "<table border=\"1\" class=\"dataframe\">\n",
       "  <thead>\n",
       "    <tr style=\"text-align: right;\">\n",
       "      <th></th>\n",
       "      <th>title</th>\n",
       "      <th>genre</th>\n",
       "      <th>developer</th>\n",
       "      <th>critic_score</th>\n",
       "      <th>total_sales</th>\n",
       "      <th>release_date</th>\n",
       "    </tr>\n",
       "  </thead>\n",
       "  <tbody>\n",
       "    <tr>\n",
       "      <th>2197</th>\n",
       "      <td>Ridge Racer 2</td>\n",
       "      <td>Racing</td>\n",
       "      <td>Namco Bandai Games</td>\n",
       "      <td>7.5</td>\n",
       "      <td>0.10</td>\n",
       "      <td>2020-12-31</td>\n",
       "    </tr>\n",
       "    <tr>\n",
       "      <th>2065</th>\n",
       "      <td>The Legend of Heroes: Trails of Cold Steel III</td>\n",
       "      <td>Role-Playing</td>\n",
       "      <td>Nihon Falcom Corporation</td>\n",
       "      <td>7.0</td>\n",
       "      <td>0.13</td>\n",
       "      <td>2019-09-24</td>\n",
       "    </tr>\n",
       "    <tr>\n",
       "      <th>1897</th>\n",
       "      <td>Katamari Damacy Reroll</td>\n",
       "      <td>Action</td>\n",
       "      <td>Bandai Namco Games</td>\n",
       "      <td>8.8</td>\n",
       "      <td>0.17</td>\n",
       "      <td>2018-12-07</td>\n",
       "    </tr>\n",
       "    <tr>\n",
       "      <th>2507</th>\n",
       "      <td>Hellblade: Senua's Sacrifice</td>\n",
       "      <td>Action-Adventure</td>\n",
       "      <td>Ninja Theory</td>\n",
       "      <td>8.3</td>\n",
       "      <td>0.05</td>\n",
       "      <td>2018-12-04</td>\n",
       "    </tr>\n",
       "    <tr>\n",
       "      <th>2399</th>\n",
       "      <td>Ride 3</td>\n",
       "      <td>Racing</td>\n",
       "      <td>Milestone S.r.l.</td>\n",
       "      <td>7.3</td>\n",
       "      <td>0.07</td>\n",
       "      <td>2018-11-30</td>\n",
       "    </tr>\n",
       "  </tbody>\n",
       "</table>\n",
       "</div>"
      ],
      "text/plain": [
       "                                               title             genre  \\\n",
       "2197                                   Ridge Racer 2            Racing   \n",
       "2065  The Legend of Heroes: Trails of Cold Steel III      Role-Playing   \n",
       "1897                          Katamari Damacy Reroll            Action   \n",
       "2507                    Hellblade: Senua's Sacrifice  Action-Adventure   \n",
       "2399                                          Ride 3            Racing   \n",
       "\n",
       "                     developer  critic_score  total_sales release_date  \n",
       "2197        Namco Bandai Games           7.5         0.10   2020-12-31  \n",
       "2065  Nihon Falcom Corporation           7.0         0.13   2019-09-24  \n",
       "1897        Bandai Namco Games           8.8         0.17   2018-12-07  \n",
       "2507              Ninja Theory           8.3         0.05   2018-12-04  \n",
       "2399          Milestone S.r.l.           7.3         0.07   2018-11-30  "
      ]
     },
     "execution_count": 37,
     "metadata": {},
     "output_type": "execute_result"
    }
   ],
   "source": [
    "df.sort_values('release_date', ascending=False).head()"
   ]
  },
  {
   "cell_type": "code",
   "execution_count": 38,
   "metadata": {},
   "outputs": [
    {
     "data": {
      "text/html": [
       "<div>\n",
       "<style scoped>\n",
       "    .dataframe tbody tr th:only-of-type {\n",
       "        vertical-align: middle;\n",
       "    }\n",
       "\n",
       "    .dataframe tbody tr th {\n",
       "        vertical-align: top;\n",
       "    }\n",
       "\n",
       "    .dataframe thead th {\n",
       "        text-align: right;\n",
       "    }\n",
       "</style>\n",
       "<table border=\"1\" class=\"dataframe\">\n",
       "  <thead>\n",
       "    <tr style=\"text-align: right;\">\n",
       "      <th></th>\n",
       "      <th>title</th>\n",
       "      <th>genre</th>\n",
       "      <th>developer</th>\n",
       "      <th>critic_score</th>\n",
       "      <th>total_sales</th>\n",
       "      <th>release_date</th>\n",
       "    </tr>\n",
       "  </thead>\n",
       "  <tbody>\n",
       "    <tr>\n",
       "      <th>1666</th>\n",
       "      <td>Spawn the Eternal</td>\n",
       "      <td>Action</td>\n",
       "      <td>Sony Computer Entertainment</td>\n",
       "      <td>1.9</td>\n",
       "      <td>0.24</td>\n",
       "      <td>1997-12-01</td>\n",
       "    </tr>\n",
       "    <tr>\n",
       "      <th>1884</th>\n",
       "      <td>Iron Chef America: Supreme Cuisine</td>\n",
       "      <td>Simulation</td>\n",
       "      <td>Black Lantern Studios</td>\n",
       "      <td>2.0</td>\n",
       "      <td>0.17</td>\n",
       "      <td>2008-11-25</td>\n",
       "    </tr>\n",
       "    <tr>\n",
       "      <th>2050</th>\n",
       "      <td>Nickelodeon Kart Racers</td>\n",
       "      <td>Racing</td>\n",
       "      <td>Bamtang</td>\n",
       "      <td>2.0</td>\n",
       "      <td>0.13</td>\n",
       "      <td>2018-10-23</td>\n",
       "    </tr>\n",
       "    <tr>\n",
       "      <th>2291</th>\n",
       "      <td>Batman Beyond: Return of the Joker</td>\n",
       "      <td>Action</td>\n",
       "      <td>Kemco</td>\n",
       "      <td>2.0</td>\n",
       "      <td>0.09</td>\n",
       "      <td>2000-12-13</td>\n",
       "    </tr>\n",
       "    <tr>\n",
       "      <th>2348</th>\n",
       "      <td>Anubis II</td>\n",
       "      <td>Platform</td>\n",
       "      <td>Data Design Interactive</td>\n",
       "      <td>1.5</td>\n",
       "      <td>0.07</td>\n",
       "      <td>2007-09-18</td>\n",
       "    </tr>\n",
       "    <tr>\n",
       "      <th>2403</th>\n",
       "      <td>Risen 3: Titan Lords Enhanced Edition</td>\n",
       "      <td>Role-Playing</td>\n",
       "      <td>Piranha Bytes</td>\n",
       "      <td>1.0</td>\n",
       "      <td>0.07</td>\n",
       "      <td>2015-08-21</td>\n",
       "    </tr>\n",
       "    <tr>\n",
       "      <th>2418</th>\n",
       "      <td>Spy Games: Elevator Mission</td>\n",
       "      <td>Shooter</td>\n",
       "      <td>Tommo</td>\n",
       "      <td>2.0</td>\n",
       "      <td>0.06</td>\n",
       "      <td>2007-11-16</td>\n",
       "    </tr>\n",
       "    <tr>\n",
       "      <th>2425</th>\n",
       "      <td>Kabuki Warriors</td>\n",
       "      <td>Action</td>\n",
       "      <td>Light Weight</td>\n",
       "      <td>1.0</td>\n",
       "      <td>0.06</td>\n",
       "      <td>2001-11-19</td>\n",
       "    </tr>\n",
       "    <tr>\n",
       "      <th>2516</th>\n",
       "      <td>Jenga World Tour</td>\n",
       "      <td>Misc</td>\n",
       "      <td>Atomic Planet Entertainment</td>\n",
       "      <td>2.0</td>\n",
       "      <td>0.05</td>\n",
       "      <td>2007-12-07</td>\n",
       "    </tr>\n",
       "    <tr>\n",
       "      <th>2562</th>\n",
       "      <td>Langrisser: Re:Incarnation Tensei</td>\n",
       "      <td>Role-Playing</td>\n",
       "      <td>NCS</td>\n",
       "      <td>1.5</td>\n",
       "      <td>0.04</td>\n",
       "      <td>2016-04-19</td>\n",
       "    </tr>\n",
       "    <tr>\n",
       "      <th>2613</th>\n",
       "      <td>Elf Bowling 1 &amp; 2</td>\n",
       "      <td>Sports</td>\n",
       "      <td>Ignition Entertainment</td>\n",
       "      <td>1.4</td>\n",
       "      <td>0.03</td>\n",
       "      <td>2005-11-28</td>\n",
       "    </tr>\n",
       "    <tr>\n",
       "      <th>2678</th>\n",
       "      <td>Trigger Man</td>\n",
       "      <td>Shooter</td>\n",
       "      <td>Point of View</td>\n",
       "      <td>2.0</td>\n",
       "      <td>0.02</td>\n",
       "      <td>2004-10-05</td>\n",
       "    </tr>\n",
       "    <tr>\n",
       "      <th>2752</th>\n",
       "      <td>Carmageddon 64</td>\n",
       "      <td>Action</td>\n",
       "      <td>SCi</td>\n",
       "      <td>1.3</td>\n",
       "      <td>0.01</td>\n",
       "      <td>1999-12-05</td>\n",
       "    </tr>\n",
       "    <tr>\n",
       "      <th>2753</th>\n",
       "      <td>Street Cleaning Simulator</td>\n",
       "      <td>Simulation</td>\n",
       "      <td>TML Studios</td>\n",
       "      <td>1.5</td>\n",
       "      <td>0.01</td>\n",
       "      <td>2011-07-01</td>\n",
       "    </tr>\n",
       "    <tr>\n",
       "      <th>2786</th>\n",
       "      <td>The Sims 2 Holiday Edition</td>\n",
       "      <td>Simulation</td>\n",
       "      <td>Maxis</td>\n",
       "      <td>2.0</td>\n",
       "      <td>0.00</td>\n",
       "      <td>2005-11-15</td>\n",
       "    </tr>\n",
       "    <tr>\n",
       "      <th>2842</th>\n",
       "      <td>A-Train HX</td>\n",
       "      <td>Simulation</td>\n",
       "      <td>ArtDink</td>\n",
       "      <td>2.0</td>\n",
       "      <td>0.00</td>\n",
       "      <td>2008-03-07</td>\n",
       "    </tr>\n",
       "  </tbody>\n",
       "</table>\n",
       "</div>"
      ],
      "text/plain": [
       "                                      title         genre  \\\n",
       "1666                      Spawn the Eternal        Action   \n",
       "1884     Iron Chef America: Supreme Cuisine    Simulation   \n",
       "2050                Nickelodeon Kart Racers        Racing   \n",
       "2291     Batman Beyond: Return of the Joker        Action   \n",
       "2348                              Anubis II      Platform   \n",
       "2403  Risen 3: Titan Lords Enhanced Edition  Role-Playing   \n",
       "2418            Spy Games: Elevator Mission       Shooter   \n",
       "2425                        Kabuki Warriors        Action   \n",
       "2516                       Jenga World Tour          Misc   \n",
       "2562      Langrisser: Re:Incarnation Tensei  Role-Playing   \n",
       "2613                      Elf Bowling 1 & 2        Sports   \n",
       "2678                            Trigger Man       Shooter   \n",
       "2752                         Carmageddon 64        Action   \n",
       "2753              Street Cleaning Simulator    Simulation   \n",
       "2786             The Sims 2 Holiday Edition    Simulation   \n",
       "2842                             A-Train HX    Simulation   \n",
       "\n",
       "                        developer  critic_score  total_sales release_date  \n",
       "1666  Sony Computer Entertainment           1.9         0.24   1997-12-01  \n",
       "1884        Black Lantern Studios           2.0         0.17   2008-11-25  \n",
       "2050                      Bamtang           2.0         0.13   2018-10-23  \n",
       "2291                        Kemco           2.0         0.09   2000-12-13  \n",
       "2348      Data Design Interactive           1.5         0.07   2007-09-18  \n",
       "2403                Piranha Bytes           1.0         0.07   2015-08-21  \n",
       "2418                        Tommo           2.0         0.06   2007-11-16  \n",
       "2425                 Light Weight           1.0         0.06   2001-11-19  \n",
       "2516  Atomic Planet Entertainment           2.0         0.05   2007-12-07  \n",
       "2562                          NCS           1.5         0.04   2016-04-19  \n",
       "2613       Ignition Entertainment           1.4         0.03   2005-11-28  \n",
       "2678                Point of View           2.0         0.02   2004-10-05  \n",
       "2752                          SCi           1.3         0.01   1999-12-05  \n",
       "2753                  TML Studios           1.5         0.01   2011-07-01  \n",
       "2786                        Maxis           2.0         0.00   2005-11-15  \n",
       "2842                      ArtDink           2.0         0.00   2008-03-07  "
      ]
     },
     "execution_count": 38,
     "metadata": {},
     "output_type": "execute_result"
    }
   ],
   "source": [
    "df[df.critic_score <= 2]"
   ]
  },
  {
   "cell_type": "code",
   "execution_count": 39,
   "metadata": {},
   "outputs": [
    {
     "data": {
      "text/html": [
       "<div>\n",
       "<style scoped>\n",
       "    .dataframe tbody tr th:only-of-type {\n",
       "        vertical-align: middle;\n",
       "    }\n",
       "\n",
       "    .dataframe tbody tr th {\n",
       "        vertical-align: top;\n",
       "    }\n",
       "\n",
       "    .dataframe thead th {\n",
       "        text-align: right;\n",
       "    }\n",
       "</style>\n",
       "<table border=\"1\" class=\"dataframe\">\n",
       "  <thead>\n",
       "    <tr style=\"text-align: right;\">\n",
       "      <th></th>\n",
       "      <th>title</th>\n",
       "      <th>genre</th>\n",
       "      <th>developer</th>\n",
       "      <th>critic_score</th>\n",
       "      <th>total_sales</th>\n",
       "      <th>release_date</th>\n",
       "    </tr>\n",
       "  </thead>\n",
       "  <tbody>\n",
       "    <tr>\n",
       "      <th>0</th>\n",
       "      <td>Grand Theft Auto V</td>\n",
       "      <td>Action</td>\n",
       "      <td>Rockstar North</td>\n",
       "      <td>9.366667</td>\n",
       "      <td>48.43</td>\n",
       "      <td>2013-09-17</td>\n",
       "    </tr>\n",
       "    <tr>\n",
       "      <th>6</th>\n",
       "      <td>Grand Theft Auto IV</td>\n",
       "      <td>Action</td>\n",
       "      <td>Rockstar North</td>\n",
       "      <td>9.733333</td>\n",
       "      <td>22.53</td>\n",
       "      <td>2008-04-29</td>\n",
       "    </tr>\n",
       "    <tr>\n",
       "      <th>13</th>\n",
       "      <td>Grand Theft Auto: Vice City</td>\n",
       "      <td>Action</td>\n",
       "      <td>Rockstar North</td>\n",
       "      <td>9.300000</td>\n",
       "      <td>16.19</td>\n",
       "      <td>2002-10-28</td>\n",
       "    </tr>\n",
       "    <tr>\n",
       "      <th>140</th>\n",
       "      <td>Grand Theft Auto: Episodes from Liberty City</td>\n",
       "      <td>Adventure</td>\n",
       "      <td>Rockstar North</td>\n",
       "      <td>9.000000</td>\n",
       "      <td>4.69</td>\n",
       "      <td>2009-10-29</td>\n",
       "    </tr>\n",
       "    <tr>\n",
       "      <th>156</th>\n",
       "      <td>Rockstar Games Double Pack: Grand Theft Auto I...</td>\n",
       "      <td>Action</td>\n",
       "      <td>Rockstar North</td>\n",
       "      <td>9.750000</td>\n",
       "      <td>4.21</td>\n",
       "      <td>2003-10-31</td>\n",
       "    </tr>\n",
       "    <tr>\n",
       "      <th>260</th>\n",
       "      <td>Grand Theft Auto: San Andreas</td>\n",
       "      <td>Action</td>\n",
       "      <td>Rockstar North</td>\n",
       "      <td>9.300000</td>\n",
       "      <td>2.92</td>\n",
       "      <td>2005-06-07</td>\n",
       "    </tr>\n",
       "    <tr>\n",
       "      <th>481</th>\n",
       "      <td>Manhunt</td>\n",
       "      <td>Action</td>\n",
       "      <td>Rockstar North</td>\n",
       "      <td>7.850000</td>\n",
       "      <td>1.47</td>\n",
       "      <td>2003-11-18</td>\n",
       "    </tr>\n",
       "  </tbody>\n",
       "</table>\n",
       "</div>"
      ],
      "text/plain": [
       "                                                 title      genre  \\\n",
       "0                                   Grand Theft Auto V     Action   \n",
       "6                                  Grand Theft Auto IV     Action   \n",
       "13                         Grand Theft Auto: Vice City     Action   \n",
       "140       Grand Theft Auto: Episodes from Liberty City  Adventure   \n",
       "156  Rockstar Games Double Pack: Grand Theft Auto I...     Action   \n",
       "260                      Grand Theft Auto: San Andreas     Action   \n",
       "481                                            Manhunt     Action   \n",
       "\n",
       "          developer  critic_score  total_sales release_date  \n",
       "0    Rockstar North      9.366667        48.43   2013-09-17  \n",
       "6    Rockstar North      9.733333        22.53   2008-04-29  \n",
       "13   Rockstar North      9.300000        16.19   2002-10-28  \n",
       "140  Rockstar North      9.000000         4.69   2009-10-29  \n",
       "156  Rockstar North      9.750000         4.21   2003-10-31  \n",
       "260  Rockstar North      9.300000         2.92   2005-06-07  \n",
       "481  Rockstar North      7.850000         1.47   2003-11-18  "
      ]
     },
     "execution_count": 39,
     "metadata": {},
     "output_type": "execute_result"
    }
   ],
   "source": [
    "df[df.developer == \"Rockstar North\"]"
   ]
  },
  {
   "cell_type": "code",
   "execution_count": 48,
   "metadata": {},
   "outputs": [
    {
     "data": {
      "text/plain": [
       "<Axes: xlabel='critic_score', ylabel='total_sales'>"
      ]
     },
     "execution_count": 48,
     "metadata": {},
     "output_type": "execute_result"
    },
    {
     "data": {
      "image/png": "[encoded data removed]",
      "text/plain": [
       "<Figure size 640x480 with 1 Axes>"
      ]
     },
     "metadata": {},
     "output_type": "display_data"
    }
   ],
   "source": [
    "df.plot(kind='scatter', x='critic_score', y='total_sales')"
   ]
  },
  {
   "cell_type": "code",
   "execution_count": 47,
   "metadata": {},
   "outputs": [
    {
     "data": {
      "text/plain": [
       "<Axes: >"
      ]
     },
     "execution_count": 47,
     "metadata": {},
     "output_type": "execute_result"
    },
    {
     "data": {
      "image/png": "[encoded data removed]",
      "text/plain": [
       "<Figure size 640x480 with 1 Axes>"
      ]
     },
     "metadata": {},
     "output_type": "display_data"
    }
   ],
   "source": [
    "df.total_sales.hist(bins=50)"
   ]
  },
  {
   "cell_type": "code",
   "execution_count": null,
   "metadata": {},
   "outputs": [],
   "source": [
    "df.sort_values('developer')"
   ]
  },
  {
   "cell_type": "markdown",
   "metadata": {},
   "source": [
    "### Vilka utvecklare har sålt flest spel?\n",
    "\n",
    "Vi kan gruppera datan efter värdena i en eller flera kolumner med `groupby()`."
   ]
  },
  {
   "cell_type": "code",
   "execution_count": 49,
   "metadata": {},
   "outputs": [
    {
     "data": {
      "text/plain": [
       "developer\n",
       "10tacle Studios AG               0.16\n",
       "1C: Maddox Games                 0.05\n",
       "1st Playable Productions         3.14\n",
       "2015, Inc.                       0.00\n",
       "2D Boy                           0.03\n",
       "                                 ... \n",
       "skip Ltd.                        0.42\n",
       "syn Sophia                       0.45\n",
       "tri-Ace                          1.80\n",
       "tri-Crescendo / Monolith Soft    0.37\n",
       "zSlide                           0.03\n",
       "Name: total_sales, Length: 1014, dtype: float64"
      ]
     },
     "execution_count": 49,
     "metadata": {},
     "output_type": "execute_result"
    }
   ],
   "source": [
    "df.groupby('developer').total_sales.sum()"
   ]
  },
  {
   "cell_type": "markdown",
   "metadata": {},
   "source": [
    "Vi sorterar fallande."
   ]
  },
  {
   "cell_type": "code",
   "execution_count": 50,
   "metadata": {},
   "outputs": [
    {
     "data": {
      "text/plain": [
       "developer\n",
       "EA Canada            136.40\n",
       "Treyarch             122.02\n",
       "Infinity Ward        114.29\n",
       "EA Tiburon           104.13\n",
       "Ubisoft Montreal     102.91\n",
       "                      ...  \n",
       "Rage Software          0.00\n",
       "Rain Games             0.00\n",
       "Valve Corporation      0.00\n",
       "Vision Works           0.00\n",
       "2015, Inc.             0.00\n",
       "Name: total_sales, Length: 1014, dtype: float64"
      ]
     },
     "execution_count": 50,
     "metadata": {},
     "output_type": "execute_result"
    }
   ],
   "source": [
    "df.groupby('developer').total_sales.sum().sort_values(ascending=False)"
   ]
  },
  {
   "cell_type": "markdown",
   "metadata": {},
   "source": [
    "Nu börjar vi få en ganska lång rad med metoder. Vi skapar en `Series` med de fem första raderna i vår grupperade, summerade och sorterade data."
   ]
  },
  {
   "cell_type": "code",
   "execution_count": 51,
   "metadata": {},
   "outputs": [],
   "source": [
    "developer_sales = df.groupby('developer').total_sales.sum().sort_values(ascending=False).head()"
   ]
  },
  {
   "cell_type": "code",
   "execution_count": 52,
   "metadata": {},
   "outputs": [
    {
     "data": {
      "text/plain": [
       "developer\n",
       "EA Canada           136.40\n",
       "Treyarch            122.02\n",
       "Infinity Ward       114.29\n",
       "EA Tiburon          104.13\n",
       "Ubisoft Montreal    102.91\n",
       "Name: total_sales, dtype: float64"
      ]
     },
     "execution_count": 52,
     "metadata": {},
     "output_type": "execute_result"
    }
   ],
   "source": [
    "developer_sales"
   ]
  },
  {
   "cell_type": "code",
   "execution_count": 53,
   "metadata": {},
   "outputs": [
    {
     "data": {
      "text/plain": [
       "<Axes: xlabel='developer'>"
      ]
     },
     "execution_count": 53,
     "metadata": {},
     "output_type": "execute_result"
    },
    {
     "data": {
      "image/png": "[encoded data removed]",
      "text/plain": [
       "<Figure size 640x480 with 1 Axes>"
      ]
     },
     "metadata": {},
     "output_type": "display_data"
    }
   ],
   "source": [
    "developer_sales.plot(kind='bar')"
   ]
  },
  {
   "cell_type": "markdown",
   "metadata": {},
   "source": [
    "Vi kan snygga till diagrammet med titel och bättre etiketter på x- och y-axlarna. Vi kan också rotera texten på x-axeln lite så den blir lättare att läsa."
   ]
  },
  {
   "cell_type": "code",
   "execution_count": 54,
   "metadata": {},
   "outputs": [
    {
     "data": {
      "text/plain": [
       "<Axes: title={'center': 'Most sold games by developer'}, xlabel='Developer', ylabel='Total games sold (millions)'>"
      ]
     },
     "execution_count": 54,
     "metadata": {},
     "output_type": "execute_result"
    },
    {
     "data": {
      "image/png": "[encoded data removed]",
      "text/plain": [
       "<Figure size 640x480 with 1 Axes>"
      ]
     },
     "metadata": {},
     "output_type": "display_data"
    }
   ],
   "source": [
    "developer_sales.plot(kind='bar', title=\"Most sold games by developer\", xlabel=\"Developer\", ylabel=\"Total games sold (millions)\", rot=45)"
   ]
  },
  {
   "cell_type": "markdown",
   "metadata": {},
   "source": [
    "EA Canada verkar ha sålt flest spel. Vilka genrer sysslar de med? Vi kan filtrera `df` på utvecklare och räkna de olika värdena i kolumnen `genre`."
   ]
  },
  {
   "cell_type": "code",
   "execution_count": 55,
   "metadata": {},
   "outputs": [
    {
     "data": {
      "text/plain": [
       "genre\n",
       "Sports      42\n",
       "Fighting     2\n",
       "Racing       1\n",
       "Name: count, dtype: int64"
      ]
     },
     "execution_count": 55,
     "metadata": {},
     "output_type": "execute_result"
    }
   ],
   "source": [
    "df[df.developer == \"EA Canada\"].genre.value_counts()"
   ]
  },
  {
   "cell_type": "code",
   "execution_count": 56,
   "metadata": {},
   "outputs": [
    {
     "data": {
      "text/plain": [
       "genre\n",
       "Shooter    8\n",
       "Action     2\n",
       "Name: count, dtype: int64"
      ]
     },
     "execution_count": 56,
     "metadata": {},
     "output_type": "execute_result"
    }
   ],
   "source": [
    "df[df.developer == \"Treyarch\"].genre.value_counts()"
   ]
  },
  {
   "cell_type": "code",
   "execution_count": 57,
   "metadata": {},
   "outputs": [
    {
     "data": {
      "text/plain": [
       "developer\n",
       "Sledgehammer Games                          17.590000\n",
       "Dice                                        17.320000\n",
       "Rockstar North                              14.348571\n",
       "Infinity Ward                               14.286250\n",
       "Rockstar Games                              13.940000\n",
       "                                              ...    \n",
       "Irrational Games / Looking Glass Studios     0.000000\n",
       "JAPAN Studio / Artoon                        0.000000\n",
       "Phenomic Game Development                    0.000000\n",
       "Valve Corporation                            0.000000\n",
       "MPS Labs                                     0.000000\n",
       "Name: total_sales, Length: 1014, dtype: float64"
      ]
     },
     "execution_count": 57,
     "metadata": {},
     "output_type": "execute_result"
    }
   ],
   "source": [
    "df.groupby('developer').total_sales.mean().sort_values(ascending=False)"
   ]
  },
  {
   "cell_type": "markdown",
   "metadata": {},
   "source": [
    "### Vilka genrer är vanligast?"
   ]
  },
  {
   "cell_type": "code",
   "execution_count": 58,
   "metadata": {},
   "outputs": [
    {
     "data": {
      "text/plain": [
       "genre\n",
       "Action              463\n",
       "Role-Playing        385\n",
       "Shooter             331\n",
       "Sports              299\n",
       "Racing              229\n",
       "Platform            212\n",
       "Adventure           167\n",
       "Fighting            166\n",
       "Misc                161\n",
       "Strategy            157\n",
       "Simulation          122\n",
       "Puzzle              106\n",
       "Action-Adventure     52\n",
       "Music                 9\n",
       "Party                 8\n",
       "MMO                   3\n",
       "Education             1\n",
       "Board Game            1\n",
       "Visual Novel          1\n",
       "Name: count, dtype: int64"
      ]
     },
     "execution_count": 58,
     "metadata": {},
     "output_type": "execute_result"
    }
   ],
   "source": [
    "df.genre.value_counts()"
   ]
  },
  {
   "cell_type": "markdown",
   "metadata": {},
   "source": [
    "### Vilka genrer får högst betyg?"
   ]
  },
  {
   "cell_type": "code",
   "execution_count": 59,
   "metadata": {},
   "outputs": [
    {
     "data": {
      "text/plain": [
       "genre\n",
       "Visual Novel        9.000000\n",
       "Education           8.000000\n",
       "Music               7.626111\n",
       "MMO                 7.338889\n",
       "Role-Playing        7.332264\n",
       "Strategy            7.329936\n",
       "Sports              7.267839\n",
       "Action-Adventure    7.257372\n",
       "Fighting            7.162349\n",
       "Puzzle              7.107547\n",
       "Shooter             7.059919\n",
       "Platform            6.990430\n",
       "Racing              6.988330\n",
       "Adventure           6.958455\n",
       "Simulation          6.763115\n",
       "Action              6.594985\n",
       "Misc                6.549513\n",
       "Party               5.550000\n",
       "Board Game          5.300000\n",
       "Name: critic_score, dtype: float64"
      ]
     },
     "execution_count": 59,
     "metadata": {},
     "output_type": "execute_result"
    }
   ],
   "source": [
    "df.groupby('genre').critic_score.mean().sort_values(ascending=False)"
   ]
  },
  {
   "cell_type": "code",
   "execution_count": 61,
   "metadata": {},
   "outputs": [
    {
     "data": {
      "text/html": [
       "<div>\n",
       "<style scoped>\n",
       "    .dataframe tbody tr th:only-of-type {\n",
       "        vertical-align: middle;\n",
       "    }\n",
       "\n",
       "    .dataframe tbody tr th {\n",
       "        vertical-align: top;\n",
       "    }\n",
       "\n",
       "    .dataframe thead th {\n",
       "        text-align: right;\n",
       "    }\n",
       "</style>\n",
       "<table border=\"1\" class=\"dataframe\">\n",
       "  <thead>\n",
       "    <tr style=\"text-align: right;\">\n",
       "      <th></th>\n",
       "      <th>title</th>\n",
       "      <th>genre</th>\n",
       "      <th>developer</th>\n",
       "      <th>critic_score</th>\n",
       "      <th>total_sales</th>\n",
       "      <th>release_date</th>\n",
       "    </tr>\n",
       "  </thead>\n",
       "  <tbody>\n",
       "    <tr>\n",
       "      <th>1478</th>\n",
       "      <td>Monopoly for Nintendo Switch</td>\n",
       "      <td>Board Game</td>\n",
       "      <td>Engine Software</td>\n",
       "      <td>5.3</td>\n",
       "      <td>0.3</td>\n",
       "      <td>2017-10-31</td>\n",
       "    </tr>\n",
       "  </tbody>\n",
       "</table>\n",
       "</div>"
      ],
      "text/plain": [
       "                             title       genre        developer  critic_score  \\\n",
       "1478  Monopoly for Nintendo Switch  Board Game  Engine Software           5.3   \n",
       "\n",
       "      total_sales release_date  \n",
       "1478          0.3   2017-10-31  "
      ]
     },
     "execution_count": 61,
     "metadata": {},
     "output_type": "execute_result"
    }
   ],
   "source": [
    "df[df.genre == \"Board Game\"]"
   ]
  },
  {
   "cell_type": "markdown",
   "metadata": {},
   "source": [
    "### Vilka genrer säljer flest spel?"
   ]
  },
  {
   "cell_type": "code",
   "execution_count": 62,
   "metadata": {},
   "outputs": [],
   "source": [
    "genre_sales = df.groupby('genre').total_sales.sum().sort_values(ascending=False).head()"
   ]
  },
  {
   "cell_type": "code",
   "execution_count": 63,
   "metadata": {},
   "outputs": [
    {
     "data": {
      "text/plain": [
       "genre\n",
       "Shooter         609.04\n",
       "Action          575.62\n",
       "Sports          484.50\n",
       "Role-Playing    253.89\n",
       "Racing          252.26\n",
       "Name: total_sales, dtype: float64"
      ]
     },
     "execution_count": 63,
     "metadata": {},
     "output_type": "execute_result"
    }
   ],
   "source": [
    "genre_sales"
   ]
  },
  {
   "cell_type": "code",
   "execution_count": 64,
   "metadata": {},
   "outputs": [
    {
     "data": {
      "text/plain": [
       "<Axes: ylabel='total_sales'>"
      ]
     },
     "execution_count": 64,
     "metadata": {},
     "output_type": "execute_result"
    },
    {
     "data": {
      "image/png": "[encoded data removed]",
      "text/plain": [
       "<Figure size 640x480 with 1 Axes>"
      ]
     },
     "metadata": {},
     "output_type": "display_data"
    }
   ],
   "source": [
    "genre_sales.plot(kind='pie', autopct=\"%d%%\")"
   ]
  },
  {
   "cell_type": "code",
   "execution_count": 65,
   "metadata": {},
   "outputs": [
    {
     "data": {
      "text/plain": [
       "<Axes: xlabel='genre'>"
      ]
     },
     "execution_count": 65,
     "metadata": {},
     "output_type": "execute_result"
    },
    {
     "data": {
      "image/png": "[encoded data removed]",
      "text/plain": [
       "<Figure size 640x480 with 1 Axes>"
      ]
     },
     "metadata": {},
     "output_type": "display_data"
    }
   ],
   "source": [
    "genre_sales.plot(kind='bar')"
   ]
  },
  {
   "cell_type": "markdown",
   "metadata": {},
   "source": [
    "### Vilka titlar har sålt bäst?"
   ]
  },
  {
   "cell_type": "code",
   "execution_count": 66,
   "metadata": {},
   "outputs": [
    {
     "data": {
      "text/html": [
       "<div>\n",
       "<style scoped>\n",
       "    .dataframe tbody tr th:only-of-type {\n",
       "        vertical-align: middle;\n",
       "    }\n",
       "\n",
       "    .dataframe tbody tr th {\n",
       "        vertical-align: top;\n",
       "    }\n",
       "\n",
       "    .dataframe thead th {\n",
       "        text-align: right;\n",
       "    }\n",
       "</style>\n",
       "<table border=\"1\" class=\"dataframe\">\n",
       "  <thead>\n",
       "    <tr style=\"text-align: right;\">\n",
       "      <th></th>\n",
       "      <th>title</th>\n",
       "      <th>genre</th>\n",
       "      <th>developer</th>\n",
       "      <th>critic_score</th>\n",
       "      <th>total_sales</th>\n",
       "      <th>release_date</th>\n",
       "    </tr>\n",
       "  </thead>\n",
       "  <tbody>\n",
       "    <tr>\n",
       "      <th>0</th>\n",
       "      <td>Grand Theft Auto V</td>\n",
       "      <td>Action</td>\n",
       "      <td>Rockstar North</td>\n",
       "      <td>9.366667</td>\n",
       "      <td>48.43</td>\n",
       "      <td>2013-09-17</td>\n",
       "    </tr>\n",
       "    <tr>\n",
       "      <th>1</th>\n",
       "      <td>Call of Duty: Black Ops</td>\n",
       "      <td>Shooter</td>\n",
       "      <td>Treyarch</td>\n",
       "      <td>8.100000</td>\n",
       "      <td>30.99</td>\n",
       "      <td>2010-11-09</td>\n",
       "    </tr>\n",
       "    <tr>\n",
       "      <th>2</th>\n",
       "      <td>Call of Duty: Modern Warfare 3</td>\n",
       "      <td>Shooter</td>\n",
       "      <td>Infinity Ward</td>\n",
       "      <td>7.500000</td>\n",
       "      <td>30.71</td>\n",
       "      <td>2011-11-08</td>\n",
       "    </tr>\n",
       "    <tr>\n",
       "      <th>3</th>\n",
       "      <td>Call of Duty: Ghosts</td>\n",
       "      <td>Shooter</td>\n",
       "      <td>Infinity Ward</td>\n",
       "      <td>7.833333</td>\n",
       "      <td>28.80</td>\n",
       "      <td>2013-11-05</td>\n",
       "    </tr>\n",
       "    <tr>\n",
       "      <th>4</th>\n",
       "      <td>Call of Duty: Black Ops II</td>\n",
       "      <td>Shooter</td>\n",
       "      <td>Treyarch</td>\n",
       "      <td>8.333333</td>\n",
       "      <td>28.08</td>\n",
       "      <td>2012-11-13</td>\n",
       "    </tr>\n",
       "    <tr>\n",
       "      <th>5</th>\n",
       "      <td>Call of Duty: Modern Warfare 2</td>\n",
       "      <td>Shooter</td>\n",
       "      <td>Infinity Ward</td>\n",
       "      <td>9.333333</td>\n",
       "      <td>25.02</td>\n",
       "      <td>2009-11-10</td>\n",
       "    </tr>\n",
       "    <tr>\n",
       "      <th>6</th>\n",
       "      <td>Grand Theft Auto IV</td>\n",
       "      <td>Action</td>\n",
       "      <td>Rockstar North</td>\n",
       "      <td>9.733333</td>\n",
       "      <td>22.53</td>\n",
       "      <td>2008-04-29</td>\n",
       "    </tr>\n",
       "    <tr>\n",
       "      <th>7</th>\n",
       "      <td>Call of Duty: Advanced Warfare</td>\n",
       "      <td>Shooter</td>\n",
       "      <td>Sledgehammer Games</td>\n",
       "      <td>8.720000</td>\n",
       "      <td>21.78</td>\n",
       "      <td>2014-11-04</td>\n",
       "    </tr>\n",
       "    <tr>\n",
       "      <th>8</th>\n",
       "      <td>The Elder Scrolls V: Skyrim</td>\n",
       "      <td>Role-Playing</td>\n",
       "      <td>Bethesda Game Studios</td>\n",
       "      <td>9.025000</td>\n",
       "      <td>20.51</td>\n",
       "      <td>2011-11-11</td>\n",
       "    </tr>\n",
       "    <tr>\n",
       "      <th>9</th>\n",
       "      <td>Call of Duty 4: Modern Warfare</td>\n",
       "      <td>Shooter</td>\n",
       "      <td>Infinity Ward</td>\n",
       "      <td>8.925000</td>\n",
       "      <td>18.33</td>\n",
       "      <td>2007-11-05</td>\n",
       "    </tr>\n",
       "  </tbody>\n",
       "</table>\n",
       "</div>"
      ],
      "text/plain": [
       "                            title         genre              developer  \\\n",
       "0              Grand Theft Auto V        Action         Rockstar North   \n",
       "1         Call of Duty: Black Ops       Shooter               Treyarch   \n",
       "2  Call of Duty: Modern Warfare 3       Shooter          Infinity Ward   \n",
       "3            Call of Duty: Ghosts       Shooter          Infinity Ward   \n",
       "4      Call of Duty: Black Ops II       Shooter               Treyarch   \n",
       "5  Call of Duty: Modern Warfare 2       Shooter          Infinity Ward   \n",
       "6             Grand Theft Auto IV        Action         Rockstar North   \n",
       "7  Call of Duty: Advanced Warfare       Shooter     Sledgehammer Games   \n",
       "8     The Elder Scrolls V: Skyrim  Role-Playing  Bethesda Game Studios   \n",
       "9  Call of Duty 4: Modern Warfare       Shooter          Infinity Ward   \n",
       "\n",
       "   critic_score  total_sales release_date  \n",
       "0      9.366667        48.43   2013-09-17  \n",
       "1      8.100000        30.99   2010-11-09  \n",
       "2      7.500000        30.71   2011-11-08  \n",
       "3      7.833333        28.80   2013-11-05  \n",
       "4      8.333333        28.08   2012-11-13  \n",
       "5      9.333333        25.02   2009-11-10  \n",
       "6      9.733333        22.53   2008-04-29  \n",
       "7      8.720000        21.78   2014-11-04  \n",
       "8      9.025000        20.51   2011-11-11  \n",
       "9      8.925000        18.33   2007-11-05  "
      ]
     },
     "execution_count": 66,
     "metadata": {},
     "output_type": "execute_result"
    }
   ],
   "source": [
    "df.sort_values('total_sales', ascending=False).head(10)"
   ]
  },
  {
   "cell_type": "markdown",
   "metadata": {},
   "source": [
    "### Vilka titlar har fått högst betyg?"
   ]
  },
  {
   "cell_type": "code",
   "execution_count": 67,
   "metadata": {},
   "outputs": [
    {
     "data": {
      "text/html": [
       "<div>\n",
       "<style scoped>\n",
       "    .dataframe tbody tr th:only-of-type {\n",
       "        vertical-align: middle;\n",
       "    }\n",
       "\n",
       "    .dataframe tbody tr th {\n",
       "        vertical-align: top;\n",
       "    }\n",
       "\n",
       "    .dataframe thead th {\n",
       "        text-align: right;\n",
       "    }\n",
       "</style>\n",
       "<table border=\"1\" class=\"dataframe\">\n",
       "  <thead>\n",
       "    <tr style=\"text-align: right;\">\n",
       "      <th></th>\n",
       "      <th>title</th>\n",
       "      <th>genre</th>\n",
       "      <th>developer</th>\n",
       "      <th>critic_score</th>\n",
       "      <th>total_sales</th>\n",
       "      <th>release_date</th>\n",
       "    </tr>\n",
       "  </thead>\n",
       "  <tbody>\n",
       "    <tr>\n",
       "      <th>321</th>\n",
       "      <td>Red Dead Redemption: Undead Nightmare</td>\n",
       "      <td>Action</td>\n",
       "      <td>Rockstar San Diego</td>\n",
       "      <td>10.000000</td>\n",
       "      <td>2.29</td>\n",
       "      <td>2010-11-23</td>\n",
       "    </tr>\n",
       "    <tr>\n",
       "      <th>19</th>\n",
       "      <td>Red Dead Redemption 2</td>\n",
       "      <td>Action-Adventure</td>\n",
       "      <td>Rockstar Games</td>\n",
       "      <td>9.800000</td>\n",
       "      <td>13.94</td>\n",
       "      <td>2018-10-26</td>\n",
       "    </tr>\n",
       "    <tr>\n",
       "      <th>156</th>\n",
       "      <td>Rockstar Games Double Pack: Grand Theft Auto I...</td>\n",
       "      <td>Action</td>\n",
       "      <td>Rockstar North</td>\n",
       "      <td>9.750000</td>\n",
       "      <td>4.21</td>\n",
       "      <td>2003-10-31</td>\n",
       "    </tr>\n",
       "    <tr>\n",
       "      <th>6</th>\n",
       "      <td>Grand Theft Auto IV</td>\n",
       "      <td>Action</td>\n",
       "      <td>Rockstar North</td>\n",
       "      <td>9.733333</td>\n",
       "      <td>22.53</td>\n",
       "      <td>2008-04-29</td>\n",
       "    </tr>\n",
       "    <tr>\n",
       "      <th>775</th>\n",
       "      <td>The Walking Dead: A Telltale Games Series</td>\n",
       "      <td>Adventure</td>\n",
       "      <td>Telltale Games</td>\n",
       "      <td>9.700000</td>\n",
       "      <td>0.82</td>\n",
       "      <td>2012-11-20</td>\n",
       "    </tr>\n",
       "    <tr>\n",
       "      <th>570</th>\n",
       "      <td>NFL 2K</td>\n",
       "      <td>Sports</td>\n",
       "      <td>Visual Concepts</td>\n",
       "      <td>9.700000</td>\n",
       "      <td>1.20</td>\n",
       "      <td>1999-09-09</td>\n",
       "    </tr>\n",
       "    <tr>\n",
       "      <th>610</th>\n",
       "      <td>NFL 2K1</td>\n",
       "      <td>Sports</td>\n",
       "      <td>Visual Concepts</td>\n",
       "      <td>9.600000</td>\n",
       "      <td>1.09</td>\n",
       "      <td>2000-09-07</td>\n",
       "    </tr>\n",
       "    <tr>\n",
       "      <th>181</th>\n",
       "      <td>Portal 2</td>\n",
       "      <td>Shooter</td>\n",
       "      <td>Valve Software</td>\n",
       "      <td>9.600000</td>\n",
       "      <td>3.79</td>\n",
       "      <td>2011-04-19</td>\n",
       "    </tr>\n",
       "    <tr>\n",
       "      <th>36</th>\n",
       "      <td>Batman: Arkham City</td>\n",
       "      <td>Action</td>\n",
       "      <td>Rocksteady Studios</td>\n",
       "      <td>9.550000</td>\n",
       "      <td>10.29</td>\n",
       "      <td>2011-10-18</td>\n",
       "    </tr>\n",
       "    <tr>\n",
       "      <th>75</th>\n",
       "      <td>Uncharted 2: Among Thieves</td>\n",
       "      <td>Action</td>\n",
       "      <td>Naughty Dog</td>\n",
       "      <td>9.500000</td>\n",
       "      <td>6.74</td>\n",
       "      <td>2009-10-13</td>\n",
       "    </tr>\n",
       "  </tbody>\n",
       "</table>\n",
       "</div>"
      ],
      "text/plain": [
       "                                                 title             genre  \\\n",
       "321              Red Dead Redemption: Undead Nightmare            Action   \n",
       "19                               Red Dead Redemption 2  Action-Adventure   \n",
       "156  Rockstar Games Double Pack: Grand Theft Auto I...            Action   \n",
       "6                                  Grand Theft Auto IV            Action   \n",
       "775          The Walking Dead: A Telltale Games Series         Adventure   \n",
       "570                                             NFL 2K            Sports   \n",
       "610                                            NFL 2K1            Sports   \n",
       "181                                           Portal 2           Shooter   \n",
       "36                                 Batman: Arkham City            Action   \n",
       "75                          Uncharted 2: Among Thieves            Action   \n",
       "\n",
       "              developer  critic_score  total_sales release_date  \n",
       "321  Rockstar San Diego     10.000000         2.29   2010-11-23  \n",
       "19       Rockstar Games      9.800000        13.94   2018-10-26  \n",
       "156      Rockstar North      9.750000         4.21   2003-10-31  \n",
       "6        Rockstar North      9.733333        22.53   2008-04-29  \n",
       "775      Telltale Games      9.700000         0.82   2012-11-20  \n",
       "570     Visual Concepts      9.700000         1.20   1999-09-09  \n",
       "610     Visual Concepts      9.600000         1.09   2000-09-07  \n",
       "181      Valve Software      9.600000         3.79   2011-04-19  \n",
       "36   Rocksteady Studios      9.550000        10.29   2011-10-18  \n",
       "75          Naughty Dog      9.500000         6.74   2009-10-13  "
      ]
     },
     "execution_count": 67,
     "metadata": {},
     "output_type": "execute_result"
    }
   ],
   "source": [
    "df.sort_values('critic_score', ascending=False).head(10)"
   ]
  },
  {
   "cell_type": "markdown",
   "metadata": {},
   "source": [
    "### Kan vi se ett samband mellan betyg och försäljning?"
   ]
  },
  {
   "cell_type": "code",
   "execution_count": 68,
   "metadata": {},
   "outputs": [
    {
     "data": {
      "text/plain": [
       "<Axes: xlabel='critic_score', ylabel='total_sales'>"
      ]
     },
     "execution_count": 68,
     "metadata": {},
     "output_type": "execute_result"
    },
    {
     "data": {
      "image/png": "[encoded data removed]",
      "text/plain": [
       "<Figure size 640x480 with 1 Axes>"
      ]
     },
     "metadata": {},
     "output_type": "display_data"
    }
   ],
   "source": [
    "df.plot(kind='scatter', x='critic_score', y='total_sales')"
   ]
  },
  {
   "cell_type": "code",
   "execution_count": 69,
   "metadata": {},
   "outputs": [
    {
     "data": {
      "text/plain": [
       "<Axes: >"
      ]
     },
     "execution_count": 69,
     "metadata": {},
     "output_type": "execute_result"
    },
    {
     "data": {
      "image/png": "[encoded data removed]",
      "text/plain": [
       "<Figure size 640x480 with 1 Axes>"
      ]
     },
     "metadata": {},
     "output_type": "display_data"
    }
   ],
   "source": [
    "df.release_date.hist(bins=50)"
   ]
  },
  {
   "cell_type": "markdown",
   "metadata": {},
   "source": [
    "## Mean sales per genre"
   ]
  },
  {
   "cell_type": "code",
   "execution_count": 70,
   "metadata": {},
   "outputs": [
    {
     "data": {
      "text/plain": [
       "genre\n",
       "Action              575.62\n",
       "Action-Adventure     79.82\n",
       "Adventure           129.86\n",
       "Board Game            0.30\n",
       "Education             0.52\n",
       "Fighting            139.13\n",
       "MMO                   1.35\n",
       "Misc                166.98\n",
       "Music                13.38\n",
       "Party                 3.00\n",
       "Platform            153.00\n",
       "Puzzle               32.07\n",
       "Racing              252.26\n",
       "Role-Playing        253.89\n",
       "Shooter             609.04\n",
       "Simulation           99.49\n",
       "Sports              484.50\n",
       "Strategy             47.49\n",
       "Visual Novel          0.03\n",
       "Name: total_sales, dtype: float64"
      ]
     },
     "execution_count": 70,
     "metadata": {},
     "output_type": "execute_result"
    }
   ],
   "source": [
    "df.groupby('genre').total_sales.sum()"
   ]
  },
  {
   "cell_type": "code",
   "execution_count": 71,
   "metadata": {},
   "outputs": [
    {
     "data": {
      "text/plain": [
       "genre\n",
       "Action              463\n",
       "Role-Playing        385\n",
       "Shooter             331\n",
       "Sports              299\n",
       "Racing              229\n",
       "Platform            212\n",
       "Adventure           167\n",
       "Fighting            166\n",
       "Misc                161\n",
       "Strategy            157\n",
       "Simulation          122\n",
       "Puzzle              106\n",
       "Action-Adventure     52\n",
       "Music                 9\n",
       "Party                 8\n",
       "MMO                   3\n",
       "Education             1\n",
       "Board Game            1\n",
       "Visual Novel          1\n",
       "Name: count, dtype: int64"
      ]
     },
     "execution_count": 71,
     "metadata": {},
     "output_type": "execute_result"
    }
   ],
   "source": [
    "df.genre.value_counts()"
   ]
  },
  {
   "cell_type": "code",
   "execution_count": 72,
   "metadata": {},
   "outputs": [
    {
     "data": {
      "text/plain": [
       "genre\n",
       "Action              1.243240\n",
       "Action-Adventure    1.535000\n",
       "Adventure           0.777605\n",
       "Board Game          0.300000\n",
       "Education           0.520000\n",
       "Fighting            0.838133\n",
       "MMO                 0.450000\n",
       "Misc                1.037143\n",
       "Music               1.486667\n",
       "Party               0.375000\n",
       "Platform            0.721698\n",
       "Puzzle              0.302547\n",
       "Racing              1.101572\n",
       "Role-Playing        0.659455\n",
       "Shooter             1.840000\n",
       "Simulation          0.815492\n",
       "Sports              1.620401\n",
       "Strategy            0.302484\n",
       "Visual Novel        0.030000\n",
       "dtype: float64"
      ]
     },
     "execution_count": 72,
     "metadata": {},
     "output_type": "execute_result"
    }
   ],
   "source": [
    "df.groupby('genre').total_sales.sum() / df.genre.value_counts()"
   ]
  },
  {
   "cell_type": "code",
   "execution_count": null,
   "metadata": {},
   "outputs": [],
   "source": [
    "df.groupby('genre').total_sales.sum().sort_values(ascending=False)"
   ]
  },
  {
   "cell_type": "code",
   "execution_count": null,
   "metadata": {},
   "outputs": [],
   "source": [
    "(df.groupby('genre').total_sales.sum() / df.genre.value_counts()).sort_values(ascending=False)"
   ]
  },
  {
   "cell_type": "code",
   "execution_count": null,
   "metadata": {},
   "outputs": [],
   "source": [
    "df[df.genre == 'Music'].total_sales.hist(bins=25)"
   ]
  },
  {
   "cell_type": "code",
   "execution_count": null,
   "metadata": {},
   "outputs": [],
   "source": [
    "df[df.genre == 'Action-Adventure'].sort_values('critic_score', ascending=False)"
   ]
  },
  {
   "cell_type": "code",
   "execution_count": 75,
   "metadata": {},
   "outputs": [],
   "source": [
    "df['test_column'] = df.critic_score >= 5"
   ]
  },
  {
   "cell_type": "code",
   "execution_count": 76,
   "metadata": {},
   "outputs": [
    {
     "data": {
      "text/html": [
       "<div>\n",
       "<style scoped>\n",
       "    .dataframe tbody tr th:only-of-type {\n",
       "        vertical-align: middle;\n",
       "    }\n",
       "\n",
       "    .dataframe tbody tr th {\n",
       "        vertical-align: top;\n",
       "    }\n",
       "\n",
       "    .dataframe thead th {\n",
       "        text-align: right;\n",
       "    }\n",
       "</style>\n",
       "<table border=\"1\" class=\"dataframe\">\n",
       "  <thead>\n",
       "    <tr style=\"text-align: right;\">\n",
       "      <th></th>\n",
       "      <th>title</th>\n",
       "      <th>genre</th>\n",
       "      <th>developer</th>\n",
       "      <th>critic_score</th>\n",
       "      <th>total_sales</th>\n",
       "      <th>release_date</th>\n",
       "      <th>test_column</th>\n",
       "    </tr>\n",
       "  </thead>\n",
       "  <tbody>\n",
       "    <tr>\n",
       "      <th>0</th>\n",
       "      <td>Grand Theft Auto V</td>\n",
       "      <td>Action</td>\n",
       "      <td>Rockstar North</td>\n",
       "      <td>9.366667</td>\n",
       "      <td>48.43</td>\n",
       "      <td>2013-09-17</td>\n",
       "      <td>True</td>\n",
       "    </tr>\n",
       "    <tr>\n",
       "      <th>1</th>\n",
       "      <td>Call of Duty: Black Ops</td>\n",
       "      <td>Shooter</td>\n",
       "      <td>Treyarch</td>\n",
       "      <td>8.100000</td>\n",
       "      <td>30.99</td>\n",
       "      <td>2010-11-09</td>\n",
       "      <td>True</td>\n",
       "    </tr>\n",
       "    <tr>\n",
       "      <th>2</th>\n",
       "      <td>Call of Duty: Modern Warfare 3</td>\n",
       "      <td>Shooter</td>\n",
       "      <td>Infinity Ward</td>\n",
       "      <td>7.500000</td>\n",
       "      <td>30.71</td>\n",
       "      <td>2011-11-08</td>\n",
       "      <td>True</td>\n",
       "    </tr>\n",
       "    <tr>\n",
       "      <th>3</th>\n",
       "      <td>Call of Duty: Ghosts</td>\n",
       "      <td>Shooter</td>\n",
       "      <td>Infinity Ward</td>\n",
       "      <td>7.833333</td>\n",
       "      <td>28.80</td>\n",
       "      <td>2013-11-05</td>\n",
       "      <td>True</td>\n",
       "    </tr>\n",
       "    <tr>\n",
       "      <th>4</th>\n",
       "      <td>Call of Duty: Black Ops II</td>\n",
       "      <td>Shooter</td>\n",
       "      <td>Treyarch</td>\n",
       "      <td>8.333333</td>\n",
       "      <td>28.08</td>\n",
       "      <td>2012-11-13</td>\n",
       "      <td>True</td>\n",
       "    </tr>\n",
       "    <tr>\n",
       "      <th>...</th>\n",
       "      <td>...</td>\n",
       "      <td>...</td>\n",
       "      <td>...</td>\n",
       "      <td>...</td>\n",
       "      <td>...</td>\n",
       "      <td>...</td>\n",
       "      <td>...</td>\n",
       "    </tr>\n",
       "    <tr>\n",
       "      <th>2868</th>\n",
       "      <td>Still Life</td>\n",
       "      <td>Adventure</td>\n",
       "      <td>Microids</td>\n",
       "      <td>6.400000</td>\n",
       "      <td>0.00</td>\n",
       "      <td>2005-05-04</td>\n",
       "      <td>True</td>\n",
       "    </tr>\n",
       "    <tr>\n",
       "      <th>2869</th>\n",
       "      <td>Zoo Tycoon 2: Endangered Species</td>\n",
       "      <td>Strategy</td>\n",
       "      <td>Blue Fang Games</td>\n",
       "      <td>6.200000</td>\n",
       "      <td>0.00</td>\n",
       "      <td>2005-10-19</td>\n",
       "      <td>True</td>\n",
       "    </tr>\n",
       "    <tr>\n",
       "      <th>2870</th>\n",
       "      <td>Zoo Tycoon 2: African Adventure</td>\n",
       "      <td>Strategy</td>\n",
       "      <td>Blue Fang Games</td>\n",
       "      <td>4.000000</td>\n",
       "      <td>0.00</td>\n",
       "      <td>2006-05-22</td>\n",
       "      <td>False</td>\n",
       "    </tr>\n",
       "    <tr>\n",
       "      <th>2871</th>\n",
       "      <td>echoshift</td>\n",
       "      <td>Puzzle</td>\n",
       "      <td>JAPAN Studio / Artoon</td>\n",
       "      <td>7.500000</td>\n",
       "      <td>0.00</td>\n",
       "      <td>2010-02-24</td>\n",
       "      <td>True</td>\n",
       "    </tr>\n",
       "    <tr>\n",
       "      <th>2872</th>\n",
       "      <td>bit Generations: Boundish</td>\n",
       "      <td>Action</td>\n",
       "      <td>skip Ltd.</td>\n",
       "      <td>4.000000</td>\n",
       "      <td>0.00</td>\n",
       "      <td>2006-07-13</td>\n",
       "      <td>False</td>\n",
       "    </tr>\n",
       "  </tbody>\n",
       "</table>\n",
       "<p>2873 rows × 7 columns</p>\n",
       "</div>"
      ],
      "text/plain": [
       "                                 title      genre              developer  \\\n",
       "0                   Grand Theft Auto V     Action         Rockstar North   \n",
       "1              Call of Duty: Black Ops    Shooter               Treyarch   \n",
       "2       Call of Duty: Modern Warfare 3    Shooter          Infinity Ward   \n",
       "3                 Call of Duty: Ghosts    Shooter          Infinity Ward   \n",
       "4           Call of Duty: Black Ops II    Shooter               Treyarch   \n",
       "...                                ...        ...                    ...   \n",
       "2868                        Still Life  Adventure               Microids   \n",
       "2869  Zoo Tycoon 2: Endangered Species   Strategy        Blue Fang Games   \n",
       "2870   Zoo Tycoon 2: African Adventure   Strategy        Blue Fang Games   \n",
       "2871                         echoshift     Puzzle  JAPAN Studio / Artoon   \n",
       "2872         bit Generations: Boundish     Action              skip Ltd.   \n",
       "\n",
       "      critic_score  total_sales release_date  test_column  \n",
       "0         9.366667        48.43   2013-09-17         True  \n",
       "1         8.100000        30.99   2010-11-09         True  \n",
       "2         7.500000        30.71   2011-11-08         True  \n",
       "3         7.833333        28.80   2013-11-05         True  \n",
       "4         8.333333        28.08   2012-11-13         True  \n",
       "...            ...          ...          ...          ...  \n",
       "2868      6.400000         0.00   2005-05-04         True  \n",
       "2869      6.200000         0.00   2005-10-19         True  \n",
       "2870      4.000000         0.00   2006-05-22        False  \n",
       "2871      7.500000         0.00   2010-02-24         True  \n",
       "2872      4.000000         0.00   2006-07-13        False  \n",
       "\n",
       "[2873 rows x 7 columns]"
      ]
     },
     "execution_count": 76,
     "metadata": {},
     "output_type": "execute_result"
    }
   ],
   "source": [
    "df"
   ]
  },
  {
   "cell_type": "code",
   "execution_count": null,
   "metadata": {},
   "outputs": [],
   "source": []
  }
 ],
 "metadata": {
  "kernelspec": {
   "display_name": "env",
   "language": "python",
   "name": "python3"
  },
  "language_info": {
   "codemirror_mode": {
    "name": "ipython",
    "version": 3
   },
   "file_extension": ".py",
   "mimetype": "text/x-python",
   "name": "python",
   "nbconvert_exporter": "python",
   "pygments_lexer": "ipython3",
   "version": "3.12.4"
  }
 },
 "nbformat": 4,
 "nbformat_minor": 2
}
