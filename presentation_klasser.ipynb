{
  "cells": [
    {
      "cell_type": "markdown",
      "metadata": {},
      "source": [
        "## Klasser\n",
        "I den officiella Pythondokumentationen beskrivs klasser på följande sätt.\n",
        "\n",
        "> Classes provide a means of bundling data and functionality together. Creating a new class creates a new type of object, allowing new instances of that type to be made. Each class instance can have attributes attached to it for maintaining its state. Class instances can also have methods (defined by its class) for modifying its state.\n",
        "\n",
        "Genom att definiera egna klasser, kan vi skapa **nya typer av objekt**.\n",
        "\n",
        "**Instanser** av klasserna kan ha *attribut* kopplade till sig. Attribut kan vara variabler med värden, eller metoder som kan exekveras.\n",
        "\n",
        "#### Klass och instans\n",
        "En **klass** är en definition av en viss sorts objekt."
      ]
    },
    {
      "cell_type": "code",
      "execution_count": 1,
      "metadata": {},
      "outputs": [],
      "source": [
        "class MyClass:\n",
        "    pass"
      ]
    },
    {
      "cell_type": "markdown",
      "metadata": {},
      "source": [
        "\n",
        "En **instans** är ett specifikt objekt av en klass."
      ]
    },
    {
      "cell_type": "code",
      "execution_count": 2,
      "metadata": {},
      "outputs": [],
      "source": [
        "my_instance = MyClass()"
      ]
    },
    {
      "cell_type": "code",
      "execution_count": 5,
      "metadata": {},
      "outputs": [
        {
          "data": {
            "text/plain": [
              "2227932180368"
            ]
          },
          "execution_count": 5,
          "metadata": {},
          "output_type": "execute_result"
        }
      ],
      "source": [
        "id(my_instance)"
      ]
    },
    {
      "cell_type": "code",
      "execution_count": 4,
      "metadata": {},
      "outputs": [
        {
          "data": {
            "text/plain": [
              "__main__.MyClass"
            ]
          },
          "execution_count": 4,
          "metadata": {},
          "output_type": "execute_result"
        }
      ],
      "source": [
        "type(my_instance)"
      ]
    },
    {
      "cell_type": "markdown",
      "metadata": {},
      "source": [
        "*Vill man veta mer om* `__main__` *kan man läsa kapitel 10 i kursboken.*"
      ]
    },
    {
      "cell_type": "markdown",
      "metadata": {},
      "source": [
        "#### Datatyp och klass\n",
        "Alla datatyper i Python är exempel på klasser. Vi kan ta reda på vilken klass ett objekt tillhör med funktionen `type()`."
      ]
    },
    {
      "cell_type": "code",
      "execution_count": 6,
      "metadata": {
        "output-location": "column-fragment"
      },
      "outputs": [
        {
          "data": {
            "text/plain": [
              "int"
            ]
          },
          "execution_count": 6,
          "metadata": {},
          "output_type": "execute_result"
        }
      ],
      "source": [
        "type(42)"
      ]
    },
    {
      "cell_type": "code",
      "execution_count": 7,
      "metadata": {
        "output-location": "column-fragment"
      },
      "outputs": [
        {
          "data": {
            "text/plain": [
              "float"
            ]
          },
          "execution_count": 7,
          "metadata": {},
          "output_type": "execute_result"
        }
      ],
      "source": [
        "type(2.72)"
      ]
    },
    {
      "cell_type": "code",
      "execution_count": 8,
      "metadata": {
        "output-location": "column-fragment"
      },
      "outputs": [
        {
          "data": {
            "text/plain": [
              "str"
            ]
          },
          "execution_count": 8,
          "metadata": {},
          "output_type": "execute_result"
        }
      ],
      "source": [
        "type('hello')"
      ]
    },
    {
      "cell_type": "code",
      "execution_count": 9,
      "metadata": {
        "output-location": "column-fragment"
      },
      "outputs": [
        {
          "data": {
            "text/plain": [
              "tuple"
            ]
          },
          "execution_count": 9,
          "metadata": {},
          "output_type": "execute_result"
        }
      ],
      "source": [
        "type((4, 7, 12))"
      ]
    },
    {
      "cell_type": "markdown",
      "metadata": {},
      "source": [
        "Om vi vill kolla om ett objekt tillhör en viss klass kan vi använda `isinstance()`."
      ]
    },
    {
      "cell_type": "code",
      "execution_count": 10,
      "metadata": {},
      "outputs": [
        {
          "data": {
            "text/plain": [
              "True"
            ]
          },
          "execution_count": 10,
          "metadata": {},
          "output_type": "execute_result"
        }
      ],
      "source": [
        "isinstance(42, int)"
      ]
    },
    {
      "cell_type": "code",
      "execution_count": 11,
      "metadata": {},
      "outputs": [
        {
          "data": {
            "text/plain": [
              "False"
            ]
          },
          "execution_count": 11,
          "metadata": {},
          "output_type": "execute_result"
        }
      ],
      "source": [
        "isinstance('hello', float)"
      ]
    },
    {
      "cell_type": "markdown",
      "metadata": {},
      "source": [
        "**Diskutera**\n",
        "\n",
        "Vad är skillnaden på att använda `type()` och `isinstance()`? "
      ]
    },
    {
      "cell_type": "markdown",
      "metadata": {},
      "source": [
        "#### Metoder\n",
        "Alla instanser av en klass har vissa **metoder** gemensamt. Metoder är funktioner som är definierade i en klass."
      ]
    },
    {
      "cell_type": "code",
      "execution_count": 12,
      "metadata": {
        "output-location": "fragment"
      },
      "outputs": [
        {
          "data": {
            "text/plain": [
              "'HELLO'"
            ]
          },
          "execution_count": 12,
          "metadata": {},
          "output_type": "execute_result"
        }
      ],
      "source": [
        "my_str = 'hello'\n",
        "my_str.upper()"
      ]
    },
    {
      "cell_type": "code",
      "execution_count": 13,
      "metadata": {
        "output-location": "fragment"
      },
      "outputs": [
        {
          "ename": "AttributeError",
          "evalue": "'int' object has no attribute 'upper'",
          "output_type": "error",
          "traceback": [
            "\u001b[1;31m---------------------------------------------------------------------------\u001b[0m",
            "\u001b[1;31mAttributeError\u001b[0m                            Traceback (most recent call last)",
            "Cell \u001b[1;32mIn[13], line 2\u001b[0m\n\u001b[0;32m      1\u001b[0m my_int \u001b[38;5;241m=\u001b[39m \u001b[38;5;241m42\u001b[39m\n\u001b[1;32m----> 2\u001b[0m \u001b[43mmy_int\u001b[49m\u001b[38;5;241;43m.\u001b[39;49m\u001b[43mupper\u001b[49m()\n",
            "\u001b[1;31mAttributeError\u001b[0m: 'int' object has no attribute 'upper'"
          ]
        }
      ],
      "source": [
        "my_int = 42\n",
        "my_int.upper()"
      ]
    },
    {
      "cell_type": "markdown",
      "metadata": {},
      "source": [
        "\n",
        "Instanser av klassen `int` har inte metoden `upper()`.\n",
        "\n",
        "#### `dir()`\n",
        "För att ta reda på vilka attribut som hör till en viss klass kan vi använda funktionen `dir()`."
      ]
    },
    {
      "cell_type": "code",
      "execution_count": 14,
      "metadata": {
        "output-location": "column"
      },
      "outputs": [
        {
          "data": {
            "text/plain": [
              "['__add__',\n",
              " '__class__',\n",
              " '__class_getitem__',\n",
              " '__contains__',\n",
              " '__delattr__',\n",
              " '__delitem__',\n",
              " '__dir__',\n",
              " '__doc__',\n",
              " '__eq__',\n",
              " '__format__',\n",
              " '__ge__',\n",
              " '__getattribute__',\n",
              " '__getitem__',\n",
              " '__getstate__',\n",
              " '__gt__',\n",
              " '__hash__',\n",
              " '__iadd__',\n",
              " '__imul__',\n",
              " '__init__',\n",
              " '__init_subclass__',\n",
              " '__iter__',\n",
              " '__le__',\n",
              " '__len__',\n",
              " '__lt__',\n",
              " '__mul__',\n",
              " '__ne__',\n",
              " '__new__',\n",
              " '__reduce__',\n",
              " '__reduce_ex__',\n",
              " '__repr__',\n",
              " '__reversed__',\n",
              " '__rmul__',\n",
              " '__setattr__',\n",
              " '__setitem__',\n",
              " '__sizeof__',\n",
              " '__str__',\n",
              " '__subclasshook__',\n",
              " 'append',\n",
              " 'clear',\n",
              " 'copy',\n",
              " 'count',\n",
              " 'extend',\n",
              " 'index',\n",
              " 'insert',\n",
              " 'pop',\n",
              " 'remove',\n",
              " 'reverse',\n",
              " 'sort']"
            ]
          },
          "execution_count": 14,
          "metadata": {},
          "output_type": "execute_result"
        }
      ],
      "source": [
        "dir(list)"
      ]
    },
    {
      "cell_type": "markdown",
      "metadata": {},
      "source": [
        "#### Egna klasser\n",
        "Som vi såg tidigare kan vi definiera våra egna klasser med nyckelordet `class`."
      ]
    },
    {
      "cell_type": "code",
      "execution_count": 15,
      "metadata": {
        "output-location": "fragment"
      },
      "outputs": [
        {
          "name": "stdout",
          "output_type": "stream",
          "text": [
            "Zeinab 26\n"
          ]
        }
      ],
      "source": [
        "class Person:\n",
        "    pass\n",
        "\n",
        "person = Person()\n",
        "\n",
        "person.name = 'Zeinab'\n",
        "person.age = 26\n",
        "\n",
        "print(person.name, person.age)"
      ]
    },
    {
      "cell_type": "code",
      "execution_count": null,
      "metadata": {},
      "outputs": [],
      "source": [
        "print(person.age)"
      ]
    },
    {
      "cell_type": "code",
      "execution_count": null,
      "metadata": {},
      "outputs": [],
      "source": [
        "type(person)"
      ]
    },
    {
      "cell_type": "markdown",
      "metadata": {},
      "source": [
        "#### `__init__()`\n",
        "När vi definierar klasser kan vi också definiera metoden `__init__()` som körs när en klass instantieras."
      ]
    },
    {
      "cell_type": "code",
      "execution_count": 16,
      "metadata": {
        "output-location": "fragment"
      },
      "outputs": [],
      "source": [
        "class Person:\n",
        "    def __init__(self, name, age):\n",
        "        self.name = name\n",
        "        self.age = age\n",
        "\n",
        "    def greet(self):\n",
        "        print(f'Hello, my name is {self.name}. I am {self.age} years old.')\n"
      ]
    },
    {
      "cell_type": "code",
      "execution_count": 18,
      "metadata": {},
      "outputs": [
        {
          "name": "stdout",
          "output_type": "stream",
          "text": [
            "Hello, my name is Linus. I am 44 years old.\n"
          ]
        }
      ],
      "source": [
        "person = Person(name='Linus', age=44)\n",
        "\n",
        "person.greet()"
      ]
    },
    {
      "cell_type": "markdown",
      "metadata": {},
      "source": [
        "### `self`\n",
        "Det första argumentet som skickas till en metod är alltid en referens till instansen själv. Enligt en stark konvention kallas den parametern `self`."
      ]
    },
    {
      "cell_type": "code",
      "execution_count": 19,
      "metadata": {
        "output-location": "fragment"
      },
      "outputs": [
        {
          "ename": "TypeError",
          "evalue": "Rectangle.__init__() takes 2 positional arguments but 3 were given",
          "output_type": "error",
          "traceback": [
            "\u001b[1;31m---------------------------------------------------------------------------\u001b[0m",
            "\u001b[1;31mTypeError\u001b[0m                                 Traceback (most recent call last)",
            "Cell \u001b[1;32mIn[19], line 6\u001b[0m\n\u001b[0;32m      3\u001b[0m         \u001b[38;5;28mself\u001b[39m\u001b[38;5;241m.\u001b[39mwidth \u001b[38;5;241m=\u001b[39m width\n\u001b[0;32m      4\u001b[0m         \u001b[38;5;28mself\u001b[39m\u001b[38;5;241m.\u001b[39mheight \u001b[38;5;241m=\u001b[39m height\n\u001b[1;32m----> 6\u001b[0m my_rect \u001b[38;5;241m=\u001b[39m \u001b[43mRectangle\u001b[49m\u001b[43m(\u001b[49m\u001b[38;5;241;43m4\u001b[39;49m\u001b[43m,\u001b[49m\u001b[43m \u001b[49m\u001b[38;5;241;43m7\u001b[39;49m\u001b[43m)\u001b[49m\n",
            "\u001b[1;31mTypeError\u001b[0m: Rectangle.__init__() takes 2 positional arguments but 3 were given"
          ]
        }
      ],
      "source": [
        "class Rectangle:\n",
        "    def __init__(width, height):  # Här saknas self som första parameter\n",
        "        self.width = width\n",
        "        self.height = height\n",
        "\n",
        "my_rect = Rectangle(4, 7)"
      ]
    },
    {
      "cell_type": "code",
      "execution_count": 20,
      "metadata": {
        "output-location": "fragment"
      },
      "outputs": [
        {
          "data": {
            "text/plain": [
              "<__main__.Rectangle at 0x206bb1c90a0>"
            ]
          },
          "execution_count": 20,
          "metadata": {},
          "output_type": "execute_result"
        }
      ],
      "source": [
        "class Rectangle:\n",
        "    def __init__(self, width, height):\n",
        "        self.width = width\n",
        "        self.height = height\n",
        "\n",
        "my_rect = Rectangle(4, 7)\n",
        "my_rect"
      ]
    },
    {
      "cell_type": "markdown",
      "metadata": {},
      "source": [
        "#### Definiera egna metoder"
      ]
    },
    {
      "cell_type": "code",
      "execution_count": 30,
      "metadata": {
        "output-location": "fragment"
      },
      "outputs": [],
      "source": [
        "class Rectangle:\n",
        "    def __init__(self, width, height):\n",
        "        self.width = width\n",
        "        self.height = height\n",
        "\n",
        "    def area(self):\n",
        "        return self.width * self.height\n",
        "    \n",
        "    def circumference(self):\n",
        "        return self.width * 2 + self.height * 2\n",
        "\n",
        "my_rect = Rectangle(4, 7)\n"
      ]
    },
    {
      "cell_type": "code",
      "execution_count": 24,
      "metadata": {},
      "outputs": [
        {
          "data": {
            "text/plain": [
              "28"
            ]
          },
          "execution_count": 24,
          "metadata": {},
          "output_type": "execute_result"
        }
      ],
      "source": [
        "my_rect.area()"
      ]
    },
    {
      "cell_type": "code",
      "execution_count": 25,
      "metadata": {},
      "outputs": [
        {
          "data": {
            "text/plain": [
              "22"
            ]
          },
          "execution_count": 25,
          "metadata": {},
          "output_type": "execute_result"
        }
      ],
      "source": [
        "my_rect.circumference()"
      ]
    },
    {
      "cell_type": "code",
      "execution_count": 26,
      "metadata": {},
      "outputs": [
        {
          "data": {
            "text/plain": [
              "4"
            ]
          },
          "execution_count": 26,
          "metadata": {},
          "output_type": "execute_result"
        }
      ],
      "source": [
        "my_rect.width"
      ]
    },
    {
      "cell_type": "code",
      "execution_count": 27,
      "metadata": {},
      "outputs": [],
      "source": [
        "my_other_rect = Rectangle(12, 32)"
      ]
    },
    {
      "cell_type": "code",
      "execution_count": 28,
      "metadata": {},
      "outputs": [
        {
          "data": {
            "text/plain": [
              "384"
            ]
          },
          "execution_count": 28,
          "metadata": {},
          "output_type": "execute_result"
        }
      ],
      "source": [
        "my_other_rect.area()"
      ]
    },
    {
      "cell_type": "markdown",
      "metadata": {},
      "source": [
        "#### Docstring\n",
        "\n",
        "Det är vanligt att man dokumenterar sina klasser med *docstrings*, som är korta beskrivningar av objektets attribut och funktionalitet."
      ]
    },
    {
      "cell_type": "code",
      "execution_count": 31,
      "metadata": {},
      "outputs": [
        {
          "data": {
            "text/plain": [
              "28"
            ]
          },
          "execution_count": 31,
          "metadata": {},
          "output_type": "execute_result"
        }
      ],
      "source": [
        "class Rectangle:\n",
        "    \"\"\"A class representing a rectangle.\n",
        "\n",
        "    Attributes:\n",
        "        width (`int`): The width of the rectangle\n",
        "        height (`int`): The height of the rectangle\n",
        "\n",
        "    Methods:\n",
        "        area(): \n",
        "            Returns product of width and height\n",
        "    \"\"\"    \n",
        "\n",
        "    def __init__(self, width: int, height: int):\n",
        "        self.width = width\n",
        "        self.height = height\n",
        "\n",
        "    def area(self) -> int:\n",
        "        \"\"\"Calculate area of rectangle\n",
        "\n",
        "        Returns:\n",
        "            int: Product of width and height\n",
        "        \"\"\"        \n",
        "        return self.width * self.height\n",
        "\n",
        "my_rect = Rectangle(4, 7)\n",
        "my_rect.area()"
      ]
    },
    {
      "cell_type": "markdown",
      "metadata": {},
      "source": [
        "Docstrings kan skrivas ut genom attributet `__doc__`."
      ]
    },
    {
      "cell_type": "code",
      "execution_count": 32,
      "metadata": {},
      "outputs": [
        {
          "name": "stdout",
          "output_type": "stream",
          "text": [
            "A class representing a rectangle.\n",
            "\n",
            "    Attributes:\n",
            "        width (`int`): The width of the rectangle\n",
            "        height (`int`): The height of the rectangle\n",
            "\n",
            "    Methods:\n",
            "        area(): \n",
            "            Returns product of width and height\n",
            "    \n"
          ]
        }
      ],
      "source": [
        "print(Rectangle.__doc__)"
      ]
    },
    {
      "cell_type": "code",
      "execution_count": null,
      "metadata": {},
      "outputs": [],
      "source": []
    }
  ],
  "metadata": {
    "kernelspec": {
      "display_name": "Python 3 (ipykernel)",
      "language": "python",
      "name": "python3",
      "path": "/home/linus/.local/share/jupyter/kernels/python3"
    },
    "language_info": {
      "codemirror_mode": {
        "name": "ipython",
        "version": 3
      },
      "file_extension": ".py",
      "mimetype": "text/x-python",
      "name": "python",
      "nbconvert_exporter": "python",
      "pygments_lexer": "ipython3",
      "version": "3.12.7"
    }
  },
  "nbformat": 4,
  "nbformat_minor": 4
}
