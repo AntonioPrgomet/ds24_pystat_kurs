{
 "cells": [
  {
   "cell_type": "markdown",
   "id": "5934e881-e6e0-44fe-ae59-e7ea23a23c2a",
   "metadata": {},
   "source": [
    "# Uppgifter, Kapitel 6 - Klasser"
   ]
  },
  {
   "cell_type": "markdown",
   "id": "2ad510ef-639a-4733-8b8e-b2801a07c795",
   "metadata": {},
   "source": [
    "1. Kolla vilka klasser variablerna a, b, c, och d tillhör genom att använda type() funktionen.\n",
    "   Notera att vi i variablen d har sparat en funktion. Vi hade kunnat anropa den genom att till exempel skriva d(2). "
   ]
  },
  {
   "cell_type": "code",
   "execution_count": null,
   "id": "7cfed4fc-fbe2-49c4-bb84-f3917ba4248d",
   "metadata": {},
   "outputs": [],
   "source": [
    "a = 10 \n",
    "b = [5, 7, 3] \n",
    "c = {2, 7, 1, 8, 2, 8}\n",
    "\n",
    "def my_fun(x):\n",
    "    return 2*2\n",
    "\n",
    "d = my_fun"
   ]
  },
  {
   "cell_type": "code",
   "execution_count": null,
   "id": "289e3834-bb81-4850-a6c3-1d6bf54e8b69",
   "metadata": {},
   "outputs": [],
   "source": []
  },
  {
   "cell_type": "markdown",
   "id": "56c2e99e-6a41-43c9-8ea3-e002834187c5",
   "metadata": {},
   "source": [
    "2. a) Kolla om variablen \"my_variable\" är en instans av \"tuple\" klassen genom att använda isinstance() funktionen.\n",
    "   \n",
    "   b) Kolla om variablen \"my_variable\" är en instans av \"list\" klassen genom att använda isinstance() funktionen."
   ]
  },
  {
   "cell_type": "code",
   "execution_count": null,
   "id": "53dce717-b6ce-4288-8bc2-785184f17d01",
   "metadata": {},
   "outputs": [],
   "source": [
    "my_variable = (1, 1, 2, 3, 5)"
   ]
  },
  {
   "cell_type": "code",
   "execution_count": null,
   "id": "904943c7-6cd5-4d8c-9ae5-57fa3d6460c6",
   "metadata": {},
   "outputs": [],
   "source": []
  },
  {
   "cell_type": "markdown",
   "id": "64fa3651-1d96-4181-9e2a-b2134365a398",
   "metadata": {},
   "source": [
    "3. I denna uppgiften skall du göra följande:\n",
    " \n",
    "   a) Skapa en klass som heter \"FruitProduct\" som har en docstring där det står \"A class representing fruit products in a grocery store.\".\n",
    "   \n",
    "   b) Klassen skall ha instans-attributen \"price\" och \"quantity\". Detta gör du i samband med _\\_\\_init_\\__() .\n",
    "   \n",
    "   c) Instantiera klassen och spara instansen i variablen \"swedish_apples\". Dess pris skall vara 52 och dess kvantitet 1. Det är underförstått att vi menar kronor respektive kg. \n",
    "   \n",
    "   d) Printa ut klassens docstring genom att använda dig av _\\_\\_doc_\\_\\_.\n",
    "   \n",
    "   e) Printa ut attributen från \"swedish_apples\" instansen.\n",
    "   \n",
    "   f) Kolla vilken klass instansen \"swedish_apples\" tillhör genom att använda type() metoden.\n",
    "   \n",
    "   g) Kolla om \"swedish_apples\" tillhör klassen \"FruitProduct\" genom att använda isinstance() metoden."
   ]
  },
  {
   "cell_type": "code",
   "execution_count": null,
   "id": "d8c93a19-63da-4790-ab0f-24be338d192b",
   "metadata": {},
   "outputs": [],
   "source": []
  },
  {
   "cell_type": "markdown",
   "id": "accc0d0d-2246-43a6-afaf-b5b1c42b1ab6",
   "metadata": {},
   "source": [
    "4. Skapa en klass \"Square\" vars instanser har attributet \"side_length\". Skapa två metoder, \"perimeter()\" och \"area()\" där metoderna beräknar omkretsen respektive arean givet längden på kvadraternas sidor som finns i attributet \"side_length\". Skapa en instans \"my_square\" med sidlängden 8. Beräkna omkretsen och arean av \"my_square\" genom att använda de två metoderna som du har skapat. "
   ]
  },
  {
   "cell_type": "code",
   "execution_count": null,
   "id": "69074342-0042-459b-893b-157d0f1fe6de",
   "metadata": {},
   "outputs": [],
   "source": []
  },
  {
   "cell_type": "markdown",
   "id": "1fccc14a-5c59-46b0-900b-ee17b8638c84",
   "metadata": {},
   "source": [
    "5. a) Förklara vad nedanstående kod gör.\n",
    "   \n",
    "   b) Prova ändra variabeln L i koden nedan till en tuple och se vad som sker när du kör om all kod. "
   ]
  },
  {
   "cell_type": "code",
   "execution_count": null,
   "id": "78dafba1-8370-403b-a3e5-abf3e246c0c8",
   "metadata": {},
   "outputs": [],
   "source": [
    "class DescriptiveStatistics():\n",
    "    \"\"\"This class provides functionality for calculating descriptive statistics from a list.\"\"\"\n",
    "    \n",
    "    def __init__(self):\n",
    "        self.data = []\n",
    "    \n",
    "    def add_data(self, data):\n",
    "        if isinstance(data, list):\n",
    "            self.data.extend(data)\n",
    "        else:\n",
    "            # Code below raises an error if the data is not a list. Will be covered in chapter 8 of the book. \n",
    "            raise Exception('Only \"Lists\" are accepted as data.')  \n",
    "            \n",
    "    def calc_sum(self):\n",
    "        return sum(self.data)\n",
    "    \n",
    "    def calc_nbr_of_elements(self):\n",
    "        return len(self.data)\n",
    "    \n",
    "    def calc_mean(self):\n",
    "        return (self.calc_sum())/(self.calc_nbr_of_elements())\n",
    "    \n",
    "    def print_summary(self):\n",
    "        print('Sum:', self.calc_sum())\n",
    "        print('Number of elements:', self.calc_nbr_of_elements())\n",
    "        print('Mean:', self.calc_mean())  "
   ]
  },
  {
   "cell_type": "code",
   "execution_count": null,
   "id": "0ca8bbdd-fae5-49eb-b7ac-e1097d21be32",
   "metadata": {},
   "outputs": [],
   "source": [
    "L = [1, 2, 1, 3, 5, 7, 4, 9, 10, 3, 2, 1, 6, 4, 3, 2, 1, 10, 9, 1, 8, 7, 3, 2, 1]\n",
    "my_data = DescriptiveStatistics()\n",
    "my_data.add_data(L)"
   ]
  },
  {
   "cell_type": "code",
   "execution_count": null,
   "id": "bae2fd7d-7a65-4043-999f-dce227334d38",
   "metadata": {},
   "outputs": [],
   "source": [
    "my_data.data"
   ]
  },
  {
   "cell_type": "code",
   "execution_count": null,
   "id": "39c2015b-65d9-4c48-ad0d-edb01a192280",
   "metadata": {},
   "outputs": [],
   "source": [
    "print('Sum:', my_data.calc_sum())\n",
    "print('Number of elements:', my_data.calc_nbr_of_elements())\n",
    "print('Mean:', my_data.calc_mean())"
   ]
  },
  {
   "cell_type": "code",
   "execution_count": null,
   "id": "e438a49d-04c1-45e1-8632-52bca24e8b31",
   "metadata": {},
   "outputs": [],
   "source": [
    "my_data.print_summary()"
   ]
  },
  {
   "cell_type": "code",
   "execution_count": null,
   "id": "3f106d37-5cb9-4a58-81e8-095658ca0fed",
   "metadata": {},
   "outputs": [],
   "source": []
  },
  {
   "cell_type": "markdown",
   "id": "27871179-b49f-41ab-b5ed-ddc6275d083f",
   "metadata": {},
   "source": [
    "6. a) Skapa en klass som heter BankAccount. Klassen skall ha attributet \"account_holder\" som visar kontoinnehavarens namn samt attributet \"balance\" som visar kontoinnehavarens balans. Klassen skall ha metoden \"deposit()\" för att kunna sätta in pengar på kontot samt metoden \"withdraw()\" för att kunna ta ut pengar från kontot. Om bankinnehavaren försöker ta ut mer pengar än vad som finns på kontot skall meddelandet \"Too low balance\" printas ut.\n",
    "   \n",
    "   b) Skapa en instans av klassen och testa så klassen funkar så som du förväntar dig. Du kan till exempel prova printa ut attributen, sätta in pengar och ta ut pengar. "
   ]
  },
  {
   "cell_type": "code",
   "execution_count": null,
   "id": "d1062a2c-7c92-45e4-8d33-d428ab2537e6",
   "metadata": {},
   "outputs": [],
   "source": []
  },
  {
   "cell_type": "markdown",
   "id": "f7383657-a3db-47eb-9263-b4be45de3409",
   "metadata": {},
   "source": [
    "7. Din kollega Adrian frågar dig, vad är klasser för något? Försök förklara detta för Adrian. Använd begreppen instanser, attribut samt metoder i din förklaring. "
   ]
  },
  {
   "cell_type": "code",
   "execution_count": null,
   "id": "0a452510-c293-4282-81eb-48db0a5ea4c6",
   "metadata": {},
   "outputs": [],
   "source": []
  }
 ],
 "metadata": {
  "kernelspec": {
   "display_name": "Python 3 (ipykernel)",
   "language": "python",
   "name": "python3"
  },
  "language_info": {
   "codemirror_mode": {
    "name": "ipython",
    "version": 3
   },
   "file_extension": ".py",
   "mimetype": "text/x-python",
   "name": "python",
   "nbconvert_exporter": "python",
   "pygments_lexer": "ipython3",
   "version": "3.9.18"
  }
 },
 "nbformat": 4,
 "nbformat_minor": 5
}
