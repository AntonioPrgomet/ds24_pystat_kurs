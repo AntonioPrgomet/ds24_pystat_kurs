{
 "cells": [
  {
   "cell_type": "markdown",
   "id": "92b5c548-e8ea-4ce8-a138-b3343118191b",
   "metadata": {},
   "source": [
    "# Uppgifter, Kapitel 3 - Logik"
   ]
  },
  {
   "cell_type": "markdown",
   "id": "0ca8aab7-7fa4-4284-b810-ce883acca33e",
   "metadata": {},
   "source": [
    "1. Förklara vad nedanstående kod gör. "
   ]
  },
  {
   "cell_type": "code",
   "execution_count": null,
   "id": "58d26d8d-1bd9-4b72-bf22-9be8a2773ee0",
   "metadata": {},
   "outputs": [],
   "source": [
    "age = 18\n",
    "\n",
    "if age >= 18: \n",
    "    print('You can take a drivers license')\n",
    "else: \n",
    "    print('You are too young to take a drivers license')"
   ]
  },
  {
   "cell_type": "markdown",
   "id": "1a3c64ed-c59f-4b3e-86c7-cb60dfd30274",
   "metadata": {},
   "source": [
    "2. Skapa ett program som undersöker om värdet i variabeln x nedan är större än 10, mellan 10 och 5, eller mindre än 5 där någon text printas ut för varje av de tre fallen som undersöks. "
   ]
  },
  {
   "cell_type": "code",
   "execution_count": 3,
   "id": "23c7a46d-a60a-45cb-8930-f7afc52e4d6a",
   "metadata": {},
   "outputs": [
    {
     "name": "stdout",
     "output_type": "stream",
     "text": [
      "Mellan 5 och 10.\n"
     ]
    }
   ],
   "source": [
    "x = 7\n",
    "\n",
    "if x < 5:\n",
    "    print('Mindre än 5.')\n",
    "elif x > 10:\n",
    "    print('Större än 10.')\n",
    "else:\n",
    "    print('Mellan 5 och 10.')\n"
   ]
  },
  {
   "cell_type": "markdown",
   "id": "fdb7b75d-4108-41b5-884c-75b2ef55ad5e",
   "metadata": {},
   "source": [
    "3. Varför blir resultatet \"True\" när koden nedan exekveras? "
   ]
  },
  {
   "cell_type": "code",
   "execution_count": 4,
   "id": "c7bfb67c-3943-4425-b32d-1116471a18b7",
   "metadata": {},
   "outputs": [
    {
     "data": {
      "text/plain": [
       "True"
      ]
     },
     "execution_count": 4,
     "metadata": {},
     "output_type": "execute_result"
    }
   ],
   "source": [
    "1 == True"
   ]
  },
  {
   "cell_type": "code",
   "execution_count": 6,
   "id": "3d5c9d5b",
   "metadata": {},
   "outputs": [
    {
     "name": "stdout",
     "output_type": "stream",
     "text": [
      "Help on bool object:\n",
      "\n",
      "class bool(int)\n",
      " |  bool(x) -> bool\n",
      " |  \n",
      " |  Returns True when the argument x is true, False otherwise.\n",
      " |  The builtins True and False are the only two instances of the class bool.\n",
      " |  The class bool is a subclass of the class int, and cannot be subclassed.\n",
      " |  \n",
      " |  Method resolution order:\n",
      " |      bool\n",
      " |      int\n",
      " |      object\n",
      " |  \n",
      " |  Methods defined here:\n",
      " |  \n",
      " |  __and__(self, value, /)\n",
      " |      Return self&value.\n",
      " |  \n",
      " |  __or__(self, value, /)\n",
      " |      Return self|value.\n",
      " |  \n",
      " |  __rand__(self, value, /)\n",
      " |      Return value&self.\n",
      " |  \n",
      " |  __repr__(self, /)\n",
      " |      Return repr(self).\n",
      " |  \n",
      " |  __ror__(self, value, /)\n",
      " |      Return value|self.\n",
      " |  \n",
      " |  __rxor__(self, value, /)\n",
      " |      Return value^self.\n",
      " |  \n",
      " |  __xor__(self, value, /)\n",
      " |      Return self^value.\n",
      " |  \n",
      " |  ----------------------------------------------------------------------\n",
      " |  Static methods defined here:\n",
      " |  \n",
      " |  __new__(*args, **kwargs) from builtins.type\n",
      " |      Create and return a new object.  See help(type) for accurate signature.\n",
      " |  \n",
      " |  ----------------------------------------------------------------------\n",
      " |  Methods inherited from int:\n",
      " |  \n",
      " |  __abs__(self, /)\n",
      " |      abs(self)\n",
      " |  \n",
      " |  __add__(self, value, /)\n",
      " |      Return self+value.\n",
      " |  \n",
      " |  __bool__(self, /)\n",
      " |      True if self else False\n",
      " |  \n",
      " |  __ceil__(...)\n",
      " |      Ceiling of an Integral returns itself.\n",
      " |  \n",
      " |  __divmod__(self, value, /)\n",
      " |      Return divmod(self, value).\n",
      " |  \n",
      " |  __eq__(self, value, /)\n",
      " |      Return self==value.\n",
      " |  \n",
      " |  __float__(self, /)\n",
      " |      float(self)\n",
      " |  \n",
      " |  __floor__(...)\n",
      " |      Flooring an Integral returns itself.\n",
      " |  \n",
      " |  __floordiv__(self, value, /)\n",
      " |      Return self//value.\n",
      " |  \n",
      " |  __format__(self, format_spec, /)\n",
      " |      Default object formatter.\n",
      " |  \n",
      " |  __ge__(self, value, /)\n",
      " |      Return self>=value.\n",
      " |  \n",
      " |  __getattribute__(self, name, /)\n",
      " |      Return getattr(self, name).\n",
      " |  \n",
      " |  __getnewargs__(self, /)\n",
      " |  \n",
      " |  __gt__(self, value, /)\n",
      " |      Return self>value.\n",
      " |  \n",
      " |  __hash__(self, /)\n",
      " |      Return hash(self).\n",
      " |  \n",
      " |  __index__(self, /)\n",
      " |      Return self converted to an integer, if self is suitable for use as an index into a list.\n",
      " |  \n",
      " |  __int__(self, /)\n",
      " |      int(self)\n",
      " |  \n",
      " |  __invert__(self, /)\n",
      " |      ~self\n",
      " |  \n",
      " |  __le__(self, value, /)\n",
      " |      Return self<=value.\n",
      " |  \n",
      " |  __lshift__(self, value, /)\n",
      " |      Return self<<value.\n",
      " |  \n",
      " |  __lt__(self, value, /)\n",
      " |      Return self<value.\n",
      " |  \n",
      " |  __mod__(self, value, /)\n",
      " |      Return self%value.\n",
      " |  \n",
      " |  __mul__(self, value, /)\n",
      " |      Return self*value.\n",
      " |  \n",
      " |  __ne__(self, value, /)\n",
      " |      Return self!=value.\n",
      " |  \n",
      " |  __neg__(self, /)\n",
      " |      -self\n",
      " |  \n",
      " |  __pos__(self, /)\n",
      " |      +self\n",
      " |  \n",
      " |  __pow__(self, value, mod=None, /)\n",
      " |      Return pow(self, value, mod).\n",
      " |  \n",
      " |  __radd__(self, value, /)\n",
      " |      Return value+self.\n",
      " |  \n",
      " |  __rdivmod__(self, value, /)\n",
      " |      Return divmod(value, self).\n",
      " |  \n",
      " |  __rfloordiv__(self, value, /)\n",
      " |      Return value//self.\n",
      " |  \n",
      " |  __rlshift__(self, value, /)\n",
      " |      Return value<<self.\n",
      " |  \n",
      " |  __rmod__(self, value, /)\n",
      " |      Return value%self.\n",
      " |  \n",
      " |  __rmul__(self, value, /)\n",
      " |      Return value*self.\n",
      " |  \n",
      " |  __round__(...)\n",
      " |      Rounding an Integral returns itself.\n",
      " |      \n",
      " |      Rounding with an ndigits argument also returns an integer.\n",
      " |  \n",
      " |  __rpow__(self, value, mod=None, /)\n",
      " |      Return pow(value, self, mod).\n",
      " |  \n",
      " |  __rrshift__(self, value, /)\n",
      " |      Return value>>self.\n",
      " |  \n",
      " |  __rshift__(self, value, /)\n",
      " |      Return self>>value.\n",
      " |  \n",
      " |  __rsub__(self, value, /)\n",
      " |      Return value-self.\n",
      " |  \n",
      " |  __rtruediv__(self, value, /)\n",
      " |      Return value/self.\n",
      " |  \n",
      " |  __sizeof__(self, /)\n",
      " |      Returns size in memory, in bytes.\n",
      " |  \n",
      " |  __sub__(self, value, /)\n",
      " |      Return self-value.\n",
      " |  \n",
      " |  __truediv__(self, value, /)\n",
      " |      Return self/value.\n",
      " |  \n",
      " |  __trunc__(...)\n",
      " |      Truncating an Integral returns itself.\n",
      " |  \n",
      " |  as_integer_ratio(self, /)\n",
      " |      Return integer ratio.\n",
      " |      \n",
      " |      Return a pair of integers, whose ratio is exactly equal to the original int\n",
      " |      and with a positive denominator.\n",
      " |      \n",
      " |      >>> (10).as_integer_ratio()\n",
      " |      (10, 1)\n",
      " |      >>> (-10).as_integer_ratio()\n",
      " |      (-10, 1)\n",
      " |      >>> (0).as_integer_ratio()\n",
      " |      (0, 1)\n",
      " |  \n",
      " |  bit_count(self, /)\n",
      " |      Number of ones in the binary representation of the absolute value of self.\n",
      " |      \n",
      " |      Also known as the population count.\n",
      " |      \n",
      " |      >>> bin(13)\n",
      " |      '0b1101'\n",
      " |      >>> (13).bit_count()\n",
      " |      3\n",
      " |  \n",
      " |  bit_length(self, /)\n",
      " |      Number of bits necessary to represent self in binary.\n",
      " |      \n",
      " |      >>> bin(37)\n",
      " |      '0b100101'\n",
      " |      >>> (37).bit_length()\n",
      " |      6\n",
      " |  \n",
      " |  conjugate(...)\n",
      " |      Returns self, the complex conjugate of any int.\n",
      " |  \n",
      " |  to_bytes(self, /, length, byteorder, *, signed=False)\n",
      " |      Return an array of bytes representing an integer.\n",
      " |      \n",
      " |      length\n",
      " |        Length of bytes object to use.  An OverflowError is raised if the\n",
      " |        integer is not representable with the given number of bytes.\n",
      " |      byteorder\n",
      " |        The byte order used to represent the integer.  If byteorder is 'big',\n",
      " |        the most significant byte is at the beginning of the byte array.  If\n",
      " |        byteorder is 'little', the most significant byte is at the end of the\n",
      " |        byte array.  To request the native byte order of the host system, use\n",
      " |        `sys.byteorder' as the byte order value.\n",
      " |      signed\n",
      " |        Determines whether two's complement is used to represent the integer.\n",
      " |        If signed is False and a negative integer is given, an OverflowError\n",
      " |        is raised.\n",
      " |  \n",
      " |  ----------------------------------------------------------------------\n",
      " |  Class methods inherited from int:\n",
      " |  \n",
      " |  from_bytes(bytes, byteorder, *, signed=False) from builtins.type\n",
      " |      Return the integer represented by the given array of bytes.\n",
      " |      \n",
      " |      bytes\n",
      " |        Holds the array of bytes to convert.  The argument must either\n",
      " |        support the buffer protocol or be an iterable object producing bytes.\n",
      " |        Bytes and bytearray are examples of built-in objects that support the\n",
      " |        buffer protocol.\n",
      " |      byteorder\n",
      " |        The byte order used to represent the integer.  If byteorder is 'big',\n",
      " |        the most significant byte is at the beginning of the byte array.  If\n",
      " |        byteorder is 'little', the most significant byte is at the end of the\n",
      " |        byte array.  To request the native byte order of the host system, use\n",
      " |        `sys.byteorder' as the byte order value.\n",
      " |      signed\n",
      " |        Indicates whether two's complement is used to represent the integer.\n",
      " |  \n",
      " |  ----------------------------------------------------------------------\n",
      " |  Data descriptors inherited from int:\n",
      " |  \n",
      " |  denominator\n",
      " |      the denominator of a rational number in lowest terms\n",
      " |  \n",
      " |  imag\n",
      " |      the imaginary part of a complex number\n",
      " |  \n",
      " |  numerator\n",
      " |      the numerator of a rational number in lowest terms\n",
      " |  \n",
      " |  real\n",
      " |      the real part of a complex number\n",
      "\n"
     ]
    }
   ],
   "source": [
    "help(True)"
   ]
  },
  {
   "cell_type": "code",
   "execution_count": 7,
   "id": "bb58f6dd",
   "metadata": {},
   "outputs": [
    {
     "data": {
      "text/plain": [
       "2"
      ]
     },
     "execution_count": 7,
     "metadata": {},
     "output_type": "execute_result"
    }
   ],
   "source": [
    "True + True"
   ]
  },
  {
   "cell_type": "markdown",
   "id": "de72e114",
   "metadata": {},
   "source": []
  },
  {
   "cell_type": "markdown",
   "id": "30ac30bc-2197-41c8-8ece-4f654a0063a4",
   "metadata": {},
   "source": [
    "4. Vad blir resultatet om nedanstående kod exekveras? "
   ]
  },
  {
   "cell_type": "code",
   "execution_count": 9,
   "id": "85699762-c937-446b-bc00-83892d5ee3d2",
   "metadata": {},
   "outputs": [
    {
     "data": {
      "text/plain": [
       "False"
      ]
     },
     "execution_count": 9,
     "metadata": {},
     "output_type": "execute_result"
    }
   ],
   "source": [
    "10 > 15"
   ]
  },
  {
   "cell_type": "markdown",
   "id": "690b43b6-98db-4dd0-b6a9-22774ef603f8",
   "metadata": {},
   "source": []
  },
  {
   "cell_type": "markdown",
   "id": "552565f2-116c-4405-9dbe-0eb443df5b10",
   "metadata": {
    "jp-MarkdownHeadingCollapsed": true
   },
   "source": [
    "5. Vad blir resultatet om nedanstående kod exekveras? "
   ]
  },
  {
   "cell_type": "code",
   "execution_count": 10,
   "id": "ec7a2f6d-e361-4062-83ae-b89b7f0d0c06",
   "metadata": {},
   "outputs": [
    {
     "data": {
      "text/plain": [
       "True"
      ]
     },
     "execution_count": 10,
     "metadata": {},
     "output_type": "execute_result"
    }
   ],
   "source": [
    "7 >= 7"
   ]
  },
  {
   "cell_type": "markdown",
   "id": "a42afccf-6f18-4464-9541-448e68aa2081",
   "metadata": {},
   "source": []
  },
  {
   "cell_type": "markdown",
   "id": "9fe4c315-9f61-4d5e-9c79-e5392f05d771",
   "metadata": {},
   "source": [
    "6. Vad blir resultatet om nedanstående kod exekveras? "
   ]
  },
  {
   "cell_type": "code",
   "execution_count": 11,
   "id": "0f509e58-728c-434a-8615-0c6c90d715d1",
   "metadata": {},
   "outputs": [
    {
     "data": {
      "text/plain": [
       "False"
      ]
     },
     "execution_count": 11,
     "metadata": {},
     "output_type": "execute_result"
    }
   ],
   "source": [
    "3 != 3"
   ]
  },
  {
   "cell_type": "markdown",
   "id": "51b5337d-924d-4a05-bfe9-6aa0c490ee85",
   "metadata": {},
   "source": []
  },
  {
   "cell_type": "markdown",
   "id": "39a98cf3-d025-47a0-ac05-63848a38bf47",
   "metadata": {},
   "source": [
    "7. Vad blir resultatet om nedanstående kod exekveras? "
   ]
  },
  {
   "cell_type": "code",
   "execution_count": 12,
   "id": "0267f9bb-d478-4df2-a48d-71aed9036f90",
   "metadata": {},
   "outputs": [
    {
     "data": {
      "text/plain": [
       "False"
      ]
     },
     "execution_count": 12,
     "metadata": {},
     "output_type": "execute_result"
    }
   ],
   "source": [
    "5 >= 5 and 5 > 6"
   ]
  },
  {
   "cell_type": "markdown",
   "id": "c3546351-838f-44a7-afd7-e44766e4c780",
   "metadata": {},
   "source": []
  },
  {
   "cell_type": "markdown",
   "id": "a9d53816-8e77-4d5f-8c31-204fd5e829a9",
   "metadata": {},
   "source": [
    "8. Vad blir resultatet om nedanstående kod exekveras? "
   ]
  },
  {
   "cell_type": "code",
   "execution_count": 13,
   "id": "616d9678-75e3-42e5-8ec6-4b6fe4cf2cf5",
   "metadata": {},
   "outputs": [
    {
     "data": {
      "text/plain": [
       "True"
      ]
     },
     "execution_count": 13,
     "metadata": {},
     "output_type": "execute_result"
    }
   ],
   "source": [
    "5 >= 5 or 5 > 6\n"
   ]
  },
  {
   "cell_type": "code",
   "execution_count": 15,
   "id": "ead982fd",
   "metadata": {},
   "outputs": [
    {
     "data": {
      "text/plain": [
       "True"
      ]
     },
     "execution_count": 15,
     "metadata": {},
     "output_type": "execute_result"
    }
   ],
   "source": [
    "not False"
   ]
  },
  {
   "cell_type": "code",
   "execution_count": 16,
   "id": "826486ee",
   "metadata": {},
   "outputs": [
    {
     "data": {
      "text/plain": [
       "True"
      ]
     },
     "execution_count": 16,
     "metadata": {},
     "output_type": "execute_result"
    }
   ],
   "source": [
    "not 3 != 3"
   ]
  },
  {
   "cell_type": "code",
   "execution_count": 19,
   "id": "b4fa1d21",
   "metadata": {},
   "outputs": [
    {
     "name": "stdout",
     "output_type": "stream",
     "text": [
      "please log in\n"
     ]
    }
   ],
   "source": [
    "user_name = None\n",
    "\n",
    "if user_name is not None:\n",
    "    print('hello, user')\n",
    "else:\n",
    "    print('please log in')\n",
    "\n"
   ]
  },
  {
   "cell_type": "markdown",
   "id": "b927b0cd-65ff-4a9f-8187-394095bcb7c9",
   "metadata": {},
   "source": []
  },
  {
   "cell_type": "markdown",
   "id": "d62b6831-c7e7-4be3-8984-2a1e27b3c548",
   "metadata": {},
   "source": [
    "9. Vad blir resultatet om nedanstående kod exekveras? "
   ]
  },
  {
   "cell_type": "code",
   "execution_count": 21,
   "id": "92c97259-3a15-45a5-9bbd-69826dc3ab5a",
   "metadata": {},
   "outputs": [
    {
     "data": {
      "text/plain": [
       "True"
      ]
     },
     "execution_count": 21,
     "metadata": {},
     "output_type": "execute_result"
    }
   ],
   "source": [
    "(5 > 4 and 5 >= 5) or (10 > 2 and 3 > 100)"
   ]
  },
  {
   "cell_type": "markdown",
   "id": "67ab32af-9d7d-467d-b476-624ce6c6fc64",
   "metadata": {},
   "source": []
  },
  {
   "cell_type": "markdown",
   "id": "5baaf82c-2a97-4286-b6ea-efe246564c0b",
   "metadata": {},
   "source": [
    "10. Förklara skillnaden mellan nedanstående två kodblock. "
   ]
  },
  {
   "cell_type": "code",
   "execution_count": 22,
   "id": "41f1eb25-f4a6-4c22-8314-8257f86c2b33",
   "metadata": {},
   "outputs": [],
   "source": [
    "number = 8"
   ]
  },
  {
   "cell_type": "code",
   "execution_count": 23,
   "id": "66704f9a-6d15-482d-9e56-c17f6c77725e",
   "metadata": {},
   "outputs": [
    {
     "name": "stdout",
     "output_type": "stream",
     "text": [
      "Less than 10\n",
      "Less than 100\n"
     ]
    }
   ],
   "source": [
    "if number < 5:\n",
    "    print('Less than 5')\n",
    "\n",
    "if number < 10:\n",
    "    print('Less than 10')\n",
    "    \n",
    "if number < 100:\n",
    "    print('Less than 100')"
   ]
  },
  {
   "cell_type": "code",
   "execution_count": 24,
   "id": "a92ec69b-045f-47f0-b9da-9e7c1eeb22bd",
   "metadata": {},
   "outputs": [
    {
     "name": "stdout",
     "output_type": "stream",
     "text": [
      "Less than 10\n"
     ]
    }
   ],
   "source": [
    "if number < 5:\n",
    "    print('Less than 5')\n",
    "elif number < 10:\n",
    "    print('Less than 10')\n",
    "elif number < 100:\n",
    "    print('Less than 100')"
   ]
  },
  {
   "cell_type": "markdown",
   "id": "9025daed-3349-4d06-90d9-4a39ba3e48e2",
   "metadata": {},
   "source": []
  }
 ],
 "metadata": {
  "kernelspec": {
   "display_name": "Python 3 (ipykernel)",
   "language": "python",
   "name": "python3"
  },
  "language_info": {
   "codemirror_mode": {
    "name": "ipython",
    "version": 3
   },
   "file_extension": ".py",
   "mimetype": "text/x-python",
   "name": "python",
   "nbconvert_exporter": "python",
   "pygments_lexer": "ipython3",
   "version": "3.10.12"
  }
 },
 "nbformat": 4,
 "nbformat_minor": 5
}
