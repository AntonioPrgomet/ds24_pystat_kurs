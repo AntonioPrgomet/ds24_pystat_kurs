{
 "cells": [
  {
   "cell_type": "markdown",
   "id": "92b5c548-e8ea-4ce8-a138-b3343118191b",
   "metadata": {},
   "source": [
    "# Uppgifter, Kapitel 4 - Loopar och iterationer"
   ]
  },
  {
   "cell_type": "markdown",
   "id": "7de23cbe-8fda-45a7-87f0-8b05434e5c0a",
   "metadata": {},
   "source": [
    "1. Printa ut alla element i listan \"looping_list\" med en for loop. "
   ]
  },
  {
   "cell_type": "code",
   "execution_count": 35,
   "id": "f5b16260-1885-4d22-b379-aa40c5fe1058",
   "metadata": {},
   "outputs": [],
   "source": [
    "looping_list = [0, 'a', 'b', [1, 2, 3], ('Python', 'R', 'C', 'Java'), 55]"
   ]
  },
  {
   "cell_type": "markdown",
   "id": "348372a0-e28f-47ce-800b-d2cfe5a20ea6",
   "metadata": {},
   "source": [
    "2. Printa ut alla element i listan \"looping_list\" med en for loop och printa även ut vilken iteration det är genom att använda funktionen enumerate(). "
   ]
  },
  {
   "cell_type": "code",
   "execution_count": 5,
   "id": "d8ce5f6e-22d4-4ed6-b856-a38f6effe126",
   "metadata": {},
   "outputs": [],
   "source": [
    "looping_list = [0, 'a', 'b', [1, 2, 3], ('Python', 'R', 'C', 'Java'), 55]"
   ]
  },
  {
   "cell_type": "markdown",
   "id": "36d003b3-1306-4c21-a5c1-c16a2694458c",
   "metadata": {},
   "source": [
    "3. Printa ut talen 0, 5, 10, 15, 20 med en for-loop där du använder range() funktionen. "
   ]
  },
  {
   "cell_type": "code",
   "execution_count": null,
   "id": "88148cb4",
   "metadata": {},
   "outputs": [],
   "source": []
  },
  {
   "cell_type": "markdown",
   "id": "1787c8f7-403f-4a1c-a5c5-f1b5e9eba6db",
   "metadata": {},
   "source": [
    "4. Skriv en for loop för att printa ut varje bokstav separat i variabeln \"for_string\". "
   ]
  },
  {
   "cell_type": "code",
   "execution_count": 55,
   "id": "d82b0e78-6a5c-4836-988a-664dce100da6",
   "metadata": {},
   "outputs": [],
   "source": [
    "for_string = 'Python!'"
   ]
  },
  {
   "cell_type": "code",
   "execution_count": null,
   "id": "0a7137b4",
   "metadata": {},
   "outputs": [],
   "source": []
  },
  {
   "cell_type": "markdown",
   "id": "4ae19237-7548-4321-b2b1-895f5770c7e9",
   "metadata": {},
   "source": [
    "5. Skriv en while loop för att printa ut varje bokstav separat i variabeln \"while_string\". "
   ]
  },
  {
   "cell_type": "code",
   "execution_count": 1,
   "id": "00f37b53-2c7b-47f8-97b5-9cec21cb81e3",
   "metadata": {},
   "outputs": [],
   "source": [
    "while_string = 'Is Awesome!'"
   ]
  },
  {
   "cell_type": "code",
   "execution_count": null,
   "id": "9235f331",
   "metadata": {},
   "outputs": [],
   "source": []
  },
  {
   "cell_type": "markdown",
   "id": "7a240635-c703-4229-94bf-f2110eba5fb2",
   "metadata": {},
   "source": [
    "6. Printa ut talen 1, 2, 3, ..., 10 med en while loop. "
   ]
  },
  {
   "cell_type": "code",
   "execution_count": null,
   "id": "9c7e7843",
   "metadata": {},
   "outputs": [],
   "source": []
  },
  {
   "cell_type": "markdown",
   "id": "ed3c452d-8516-43f7-a08b-11b57014fc20",
   "metadata": {},
   "source": [
    "7. Printa ut alla tal som är delbara med 5 i listan som är sparad i variabeln \"numbers\". För att se om ett tal är delbart med 5 så kan du använda modulo operatorn \"%\". Ett tal är delbart med 5 om dess rest är 0 när det delas med 5. "
   ]
  },
  {
   "cell_type": "code",
   "execution_count": 7,
   "id": "ec661d41-5e23-45bd-8ead-735c1f92491a",
   "metadata": {},
   "outputs": [],
   "source": [
    "numbers = [10, 20, 34, 46, 55]"
   ]
  },
  {
   "cell_type": "code",
   "execution_count": null,
   "id": "f56179d6",
   "metadata": {},
   "outputs": [],
   "source": []
  },
  {
   "cell_type": "markdown",
   "id": "0655877b-41e3-4c48-8e6a-18daf8cb1489",
   "metadata": {},
   "source": [
    "8. Förklara vad nedanstående kod gör. "
   ]
  },
  {
   "cell_type": "code",
   "execution_count": 11,
   "id": "376cc228-2d30-468a-b88c-ace60d24f2ce",
   "metadata": {},
   "outputs": [
    {
     "name": "stdout",
     "output_type": "stream",
     "text": [
      "[0, 2, 4, 6, 8]\n"
     ]
    }
   ],
   "source": [
    "my_list = [] \n",
    "\n",
    "for i in range(10):\n",
    "    if i % 2 == 0:\n",
    "        my_list.append(i)\n",
    "\n",
    "print(my_list)"
   ]
  },
  {
   "cell_type": "markdown",
   "id": "7952c048-d564-4611-9c1d-85a51f81a145",
   "metadata": {},
   "source": []
  },
  {
   "cell_type": "markdown",
   "id": "5808c6d7-5e93-4aa2-964a-4b58719b5a67",
   "metadata": {},
   "source": [
    "9. Använd en for loop för att skapa en ny lista från \"list_example\", där varje tal är multiplicerat med 10. Du skall endast inkludera talen mellan 4-8 där 4 och 8 är inkluderat från \"list example\". "
   ]
  },
  {
   "cell_type": "code",
   "execution_count": 13,
   "id": "da992d02-fb65-4afd-afb9-62c28fddcdbf",
   "metadata": {},
   "outputs": [],
   "source": [
    "list_example = [1, 2, 3, 4, 5, 6, 7, 8, 9, 10]"
   ]
  },
  {
   "cell_type": "code",
   "execution_count": null,
   "id": "276327d3",
   "metadata": {},
   "outputs": [],
   "source": []
  },
  {
   "cell_type": "markdown",
   "id": "73e90cee-37c1-4db2-9a62-fbf9c54d3f13",
   "metadata": {},
   "source": [
    "10. Förklara vad nedanstående kod gör."
   ]
  },
  {
   "cell_type": "code",
   "execution_count": 25,
   "id": "9d14cc51-3be4-4679-8903-12ce50593c1a",
   "metadata": {},
   "outputs": [
    {
     "name": "stdout",
     "output_type": "stream",
     "text": [
      "0\n",
      "1\n",
      "2\n",
      "3\n",
      "4\n",
      "6\n",
      "We are done!\n"
     ]
    }
   ],
   "source": [
    "for i in range(9):\n",
    "    if i in (5, 7, 8):\n",
    "        continue \n",
    "    if i > 10: \n",
    "       # break\n",
    "        pass\n",
    "    print(i)\n",
    "else: \n",
    "    print('We are done!')"
   ]
  },
  {
   "cell_type": "code",
   "execution_count": null,
   "id": "bc515086-1728-4b31-bd3a-7c7b49239ff7",
   "metadata": {},
   "outputs": [],
   "source": []
  }
 ],
 "metadata": {
  "kernelspec": {
   "display_name": "Python 3 (ipykernel)",
   "language": "python",
   "name": "python3"
  },
  "language_info": {
   "codemirror_mode": {
    "name": "ipython",
    "version": 3
   },
   "file_extension": ".py",
   "mimetype": "text/x-python",
   "name": "python",
   "nbconvert_exporter": "python",
   "pygments_lexer": "ipython3",
   "version": "3.12.4"
  }
 },
 "nbformat": 4,
 "nbformat_minor": 5
}
