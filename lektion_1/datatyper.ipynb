{
 "cells": [
  {
   "cell_type": "markdown",
   "id": "de69128b-1c6b-46d4-a99b-79d334fc9701",
   "metadata": {},
   "source": [
    "# DS24 Python Lektion 1\n"
   ]
  },
  {
   "cell_type": "code",
   "execution_count": null,
   "id": "a398ea88-190b-430e-acc4-e439f2970eea",
   "metadata": {},
   "outputs": [],
   "source": [
    "print(\"Hello, world!\")"
   ]
  },
  {
   "cell_type": "markdown",
   "id": "9eed6b2c",
   "metadata": {},
   "source": [
    "## Objekt, identitet, datatyp, värde\n",
    "\n",
    "### Objekt\n",
    "All data i Python representeras av objekt. Alla objekt har:\n",
    "* en identitet\n",
    "* en datatyp\n",
    "* ett värde"
   ]
  },
  {
   "cell_type": "code",
   "execution_count": null,
   "id": "a6c65d18",
   "metadata": {},
   "outputs": [],
   "source": [
    "my_name = \"Linus\""
   ]
  },
  {
   "cell_type": "code",
   "execution_count": null,
   "id": "6e28aa84",
   "metadata": {},
   "outputs": [],
   "source": [
    "# Identitet\n",
    "id(my_name)"
   ]
  },
  {
   "cell_type": "code",
   "execution_count": null,
   "id": "90773019",
   "metadata": {},
   "outputs": [],
   "source": [
    "# Datatyp\n",
    "type(my_name)"
   ]
  },
  {
   "cell_type": "code",
   "execution_count": null,
   "id": "b0e73f80",
   "metadata": {},
   "outputs": [],
   "source": [
    "# Värde\n",
    "print(my_name)"
   ]
  },
  {
   "cell_type": "markdown",
   "id": "e02d63e1",
   "metadata": {},
   "source": [
    "I en notebook behöver vi inte använda `print()` för att skriva ut värdet."
   ]
  },
  {
   "cell_type": "code",
   "execution_count": null,
   "id": "6d3bcfc5",
   "metadata": {},
   "outputs": [],
   "source": [
    "my_name"
   ]
  },
  {
   "cell_type": "markdown",
   "id": "3ea6b2f1",
   "metadata": {},
   "source": [
    "## Datatyper"
   ]
  },
  {
   "cell_type": "markdown",
   "id": "d5eeade0",
   "metadata": {},
   "source": [
    "### `str`, `int`, `float`"
   ]
  },
  {
   "cell_type": "code",
   "execution_count": null,
   "id": "1378e10a",
   "metadata": {},
   "outputs": [],
   "source": [
    "my_age = 44"
   ]
  },
  {
   "cell_type": "code",
   "execution_count": null,
   "id": "67c73874",
   "metadata": {},
   "outputs": [],
   "source": [
    "type(my_age)"
   ]
  },
  {
   "cell_type": "code",
   "execution_count": null,
   "id": "66cfe1b4",
   "metadata": {},
   "outputs": [],
   "source": [
    "my_name.upper()"
   ]
  },
  {
   "cell_type": "code",
   "execution_count": null,
   "id": "c5729997",
   "metadata": {},
   "outputs": [],
   "source": [
    "my_age.upper()"
   ]
  },
  {
   "cell_type": "code",
   "execution_count": null,
   "id": "1588f544",
   "metadata": {},
   "outputs": [],
   "source": [
    "2024 - my_age"
   ]
  },
  {
   "cell_type": "code",
   "execution_count": null,
   "id": "c2959091",
   "metadata": {},
   "outputs": [],
   "source": [
    "a = 42\n",
    "b = \"23\""
   ]
  },
  {
   "cell_type": "code",
   "execution_count": null,
   "id": "8fdae39e",
   "metadata": {},
   "outputs": [],
   "source": [
    "type(a), type(b)"
   ]
  },
  {
   "cell_type": "code",
   "execution_count": null,
   "id": "5238c8a1",
   "metadata": {},
   "outputs": [],
   "source": [
    "a + b"
   ]
  },
  {
   "cell_type": "code",
   "execution_count": null,
   "id": "df70e258",
   "metadata": {},
   "outputs": [],
   "source": [
    "a + int(b)"
   ]
  },
  {
   "cell_type": "code",
   "execution_count": null,
   "id": "074d1cb3",
   "metadata": {},
   "outputs": [],
   "source": [
    "int(\"tjugotre\")"
   ]
  },
  {
   "cell_type": "code",
   "execution_count": null,
   "id": "46788a50",
   "metadata": {},
   "outputs": [],
   "source": [
    "(\"42\" + \"23\") * 4"
   ]
  },
  {
   "cell_type": "code",
   "execution_count": null,
   "id": "3a4bb402",
   "metadata": {},
   "outputs": [],
   "source": [
    "c = 2.72"
   ]
  },
  {
   "cell_type": "code",
   "execution_count": null,
   "id": "a9d7cadc",
   "metadata": {},
   "outputs": [],
   "source": [
    "type(c)"
   ]
  },
  {
   "cell_type": "code",
   "execution_count": null,
   "id": "29c8686f",
   "metadata": {},
   "outputs": [],
   "source": [
    "a * c"
   ]
  },
  {
   "cell_type": "markdown",
   "id": "a94dcedc",
   "metadata": {},
   "source": [
    "### `tuple` och `list`"
   ]
  },
  {
   "cell_type": "code",
   "execution_count": null,
   "id": "795e175a",
   "metadata": {},
   "outputs": [],
   "source": [
    "my_tuple = (2, 72, 'hello', 2.27)"
   ]
  },
  {
   "cell_type": "markdown",
   "id": "198007ac",
   "metadata": {},
   "source": [
    "Indexering. Börjar på `0`."
   ]
  },
  {
   "cell_type": "code",
   "execution_count": null,
   "id": "61905f99",
   "metadata": {},
   "outputs": [],
   "source": [
    "my_tuple[2]"
   ]
  },
  {
   "cell_type": "markdown",
   "id": "8334bf32",
   "metadata": {},
   "source": [
    "`tuples` är *immutable*."
   ]
  },
  {
   "cell_type": "code",
   "execution_count": null,
   "id": "5cfbe4f2",
   "metadata": {},
   "outputs": [],
   "source": [
    "my_tuple[0] = 23"
   ]
  },
  {
   "cell_type": "code",
   "execution_count": null,
   "id": "9c27ab3b",
   "metadata": {},
   "outputs": [],
   "source": [
    "my_list = [2, 72, 'hello', 2.27]"
   ]
  },
  {
   "cell_type": "code",
   "execution_count": null,
   "id": "6d417eee",
   "metadata": {},
   "outputs": [],
   "source": [
    "my_list[0] = 23"
   ]
  },
  {
   "cell_type": "code",
   "execution_count": null,
   "id": "4430b79a",
   "metadata": {},
   "outputs": [],
   "source": [
    "my_list"
   ]
  },
  {
   "cell_type": "code",
   "execution_count": null,
   "id": "914354b7",
   "metadata": {},
   "outputs": [],
   "source": [
    "my_list.append('last element')"
   ]
  },
  {
   "cell_type": "code",
   "execution_count": null,
   "id": "4359e029",
   "metadata": {},
   "outputs": [],
   "source": [
    "my_list"
   ]
  },
  {
   "cell_type": "code",
   "execution_count": null,
   "id": "6f5b9c7d",
   "metadata": {},
   "outputs": [],
   "source": [
    "my_tuple.append('last element')"
   ]
  },
  {
   "cell_type": "code",
   "execution_count": null,
   "id": "33845766",
   "metadata": {},
   "outputs": [],
   "source": [
    "id(my_list)"
   ]
  },
  {
   "cell_type": "code",
   "execution_count": null,
   "id": "e23e0262",
   "metadata": {},
   "outputs": [],
   "source": [
    "my_list.append('last last element')"
   ]
  },
  {
   "cell_type": "code",
   "execution_count": null,
   "id": "2170f310",
   "metadata": {},
   "outputs": [],
   "source": [
    "id(my_list)"
   ]
  },
  {
   "cell_type": "code",
   "execution_count": null,
   "id": "bf608561",
   "metadata": {},
   "outputs": [],
   "source": [
    "my_list.insert(0, 'first element')"
   ]
  },
  {
   "cell_type": "code",
   "execution_count": null,
   "id": "8897e5be",
   "metadata": {},
   "outputs": [],
   "source": [
    "my_list"
   ]
  },
  {
   "cell_type": "code",
   "execution_count": null,
   "id": "a7cf2a83",
   "metadata": {},
   "outputs": [],
   "source": [
    "my_list[-1]"
   ]
  },
  {
   "cell_type": "code",
   "execution_count": null,
   "id": "eada4833",
   "metadata": {},
   "outputs": [],
   "source": [
    "my_list[1:4]"
   ]
  },
  {
   "cell_type": "code",
   "execution_count": null,
   "id": "eae4daae",
   "metadata": {},
   "outputs": [],
   "source": [
    "my_list.remove('hello')"
   ]
  },
  {
   "cell_type": "code",
   "execution_count": null,
   "id": "22273110",
   "metadata": {},
   "outputs": [],
   "source": [
    "my_list"
   ]
  },
  {
   "cell_type": "code",
   "execution_count": null,
   "id": "f463051a",
   "metadata": {},
   "outputs": [],
   "source": [
    "my_list.remove(1014)"
   ]
  },
  {
   "cell_type": "code",
   "execution_count": null,
   "id": "c7f6940c",
   "metadata": {},
   "outputs": [],
   "source": [
    "my_list.pop(4)"
   ]
  },
  {
   "cell_type": "code",
   "execution_count": null,
   "id": "7218b8c6",
   "metadata": {},
   "outputs": [],
   "source": [
    "my_list"
   ]
  },
  {
   "cell_type": "code",
   "execution_count": null,
   "id": "f0325e55",
   "metadata": {},
   "outputs": [],
   "source": [
    "my_list.pop(24)"
   ]
  },
  {
   "cell_type": "markdown",
   "id": "52bd0093",
   "metadata": {},
   "source": [
    "### `dict`"
   ]
  },
  {
   "cell_type": "markdown",
   "id": "0d0c9af2",
   "metadata": {},
   "source": [
    "En `dict` (*dictionary*) består av nyckel-värde-par (*key-value pairs*). De definieras inom `{}`."
   ]
  },
  {
   "cell_type": "code",
   "execution_count": null,
   "id": "83a51291",
   "metadata": {},
   "outputs": [],
   "source": [
    "my_dict = {'key': 'value'}"
   ]
  },
  {
   "cell_type": "code",
   "execution_count": null,
   "id": "9734c129",
   "metadata": {},
   "outputs": [],
   "source": [
    "type(my_dict)"
   ]
  },
  {
   "cell_type": "code",
   "execution_count": null,
   "id": "fed5ae2f",
   "metadata": {},
   "outputs": [],
   "source": [
    "my_dict['key']"
   ]
  },
  {
   "cell_type": "code",
   "execution_count": null,
   "id": "3ea6015f",
   "metadata": {},
   "outputs": [],
   "source": [
    "shopping_list = {'tomatoes': 8, 'onions': 6, 'potatoes': 10}"
   ]
  },
  {
   "cell_type": "code",
   "execution_count": null,
   "id": "d15c1483",
   "metadata": {},
   "outputs": [],
   "source": [
    "shopping_list['tomatoes']"
   ]
  },
  {
   "cell_type": "code",
   "execution_count": null,
   "id": "a0924889",
   "metadata": {},
   "outputs": [],
   "source": [
    "shopping_list.keys()"
   ]
  },
  {
   "cell_type": "code",
   "execution_count": null,
   "id": "091add46",
   "metadata": {},
   "outputs": [],
   "source": [
    "shopping_list.values()"
   ]
  },
  {
   "cell_type": "code",
   "execution_count": null,
   "id": "ac094fdb",
   "metadata": {},
   "outputs": [],
   "source": [
    "shopping_list.items()"
   ]
  },
  {
   "cell_type": "code",
   "execution_count": null,
   "id": "264a3588",
   "metadata": {},
   "outputs": [],
   "source": [
    "shopping_list['beans'] = 12"
   ]
  },
  {
   "cell_type": "code",
   "execution_count": null,
   "id": "f3dc2b54",
   "metadata": {},
   "outputs": [],
   "source": [
    "shopping_list"
   ]
  },
  {
   "cell_type": "code",
   "execution_count": null,
   "id": "d0809b4d",
   "metadata": {},
   "outputs": [],
   "source": [
    "shopping_list['beans'] = 18"
   ]
  },
  {
   "cell_type": "code",
   "execution_count": null,
   "id": "fe1a239f",
   "metadata": {},
   "outputs": [],
   "source": [
    "shopping_list"
   ]
  },
  {
   "cell_type": "code",
   "execution_count": null,
   "id": "154877ed",
   "metadata": {},
   "outputs": [],
   "source": [
    "data = {'names': ['Linus', 'Petter', 'Karl'], 'ages': [44, 42, 38]}"
   ]
  },
  {
   "cell_type": "code",
   "execution_count": null,
   "id": "d7801290",
   "metadata": {},
   "outputs": [],
   "source": [
    "matrix = [[0, 2, 4],\n",
    "          [5, 3, 6],\n",
    "          [8, 7, 2]]"
   ]
  },
  {
   "cell_type": "markdown",
   "id": "59f12de6",
   "metadata": {},
   "source": [
    "## `set`"
   ]
  },
  {
   "cell_type": "code",
   "execution_count": null,
   "id": "b3c92371",
   "metadata": {},
   "outputs": [],
   "source": [
    "my_list_2 = [2, 45, 65, 21, 21, 2, 89]"
   ]
  },
  {
   "cell_type": "code",
   "execution_count": null,
   "id": "8c497592",
   "metadata": {},
   "outputs": [],
   "source": [
    "my_set = set(my_list_2)"
   ]
  },
  {
   "cell_type": "code",
   "execution_count": null,
   "id": "4f2364fe",
   "metadata": {},
   "outputs": [],
   "source": [
    "a = 21\n",
    "b = 21\n",
    "\n",
    "id(a) == id(b)"
   ]
  },
  {
   "cell_type": "code",
   "execution_count": null,
   "id": "6d88be37",
   "metadata": {},
   "outputs": [],
   "source": [
    "A = {1, 2, 4, 6, 7}\n",
    "B = {1, 5, 12, 7}"
   ]
  },
  {
   "cell_type": "code",
   "execution_count": null,
   "id": "2d5cfb90",
   "metadata": {},
   "outputs": [],
   "source": [
    "A.union(B)"
   ]
  },
  {
   "cell_type": "code",
   "execution_count": null,
   "id": "0423d65c",
   "metadata": {},
   "outputs": [],
   "source": [
    "A.intersection(B)"
   ]
  },
  {
   "cell_type": "code",
   "execution_count": null,
   "id": "a7e20a43",
   "metadata": {},
   "outputs": [],
   "source": []
  }
 ],
 "metadata": {
  "kernelspec": {
   "display_name": "Python 3 (ipykernel)",
   "language": "python",
   "name": "python3"
  },
  "language_info": {
   "codemirror_mode": {
    "name": "ipython",
    "version": 3
   },
   "file_extension": ".py",
   "mimetype": "text/x-python",
   "name": "python",
   "nbconvert_exporter": "python",
   "pygments_lexer": "ipython3",
   "version": "3.12.4"
  }
 },
 "nbformat": 4,
 "nbformat_minor": 5
}
