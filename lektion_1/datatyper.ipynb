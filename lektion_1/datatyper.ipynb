{
 "cells": [
  {
   "cell_type": "markdown",
   "id": "de69128b-1c6b-46d4-a99b-79d334fc9701",
   "metadata": {},
   "source": [
    "# DS24 Python Lektion 1\n"
   ]
  },
  {
   "cell_type": "markdown",
   "id": "9eed6b2c",
   "metadata": {},
   "source": [
    "## Objekt, identitet, datatyp, värde\n",
    "\n",
    "### Objekt\n",
    "All data i Python representeras av objekt. Alla objekt har:\n",
    "* en identitet\n",
    "* en datatyp\n",
    "* ett värde"
   ]
  },
  {
   "cell_type": "code",
   "execution_count": 1,
   "id": "a6c65d18",
   "metadata": {},
   "outputs": [],
   "source": [
    "my_name = \"Linus\""
   ]
  },
  {
   "cell_type": "code",
   "execution_count": 2,
   "id": "6e28aa84",
   "metadata": {},
   "outputs": [
    {
     "data": {
      "text/plain": [
       "1596904306128"
      ]
     },
     "execution_count": 2,
     "metadata": {},
     "output_type": "execute_result"
    }
   ],
   "source": [
    "# Identitet\n",
    "id(my_name)"
   ]
  },
  {
   "cell_type": "code",
   "execution_count": 3,
   "id": "90773019",
   "metadata": {},
   "outputs": [
    {
     "data": {
      "text/plain": [
       "str"
      ]
     },
     "execution_count": 3,
     "metadata": {},
     "output_type": "execute_result"
    }
   ],
   "source": [
    "# Datatyp\n",
    "type(my_name)"
   ]
  },
  {
   "cell_type": "code",
   "execution_count": 4,
   "id": "b0e73f80",
   "metadata": {},
   "outputs": [
    {
     "name": "stdout",
     "output_type": "stream",
     "text": [
      "Linus\n"
     ]
    }
   ],
   "source": [
    "# Värde\n",
    "print(my_name)"
   ]
  },
  {
   "cell_type": "markdown",
   "id": "e02d63e1",
   "metadata": {},
   "source": [
    "I en notebook behöver vi inte använda `print()` för att skriva ut värdet."
   ]
  },
  {
   "cell_type": "code",
   "execution_count": 5,
   "id": "6d3bcfc5",
   "metadata": {},
   "outputs": [
    {
     "data": {
      "text/plain": [
       "'Linus'"
      ]
     },
     "execution_count": 5,
     "metadata": {},
     "output_type": "execute_result"
    }
   ],
   "source": [
    "my_name"
   ]
  },
  {
   "cell_type": "markdown",
   "id": "3ea6b2f1",
   "metadata": {},
   "source": [
    "## Datatyper"
   ]
  },
  {
   "cell_type": "markdown",
   "id": "d5eeade0",
   "metadata": {},
   "source": [
    "### `str`, `int`, `float`"
   ]
  },
  {
   "cell_type": "code",
   "execution_count": 6,
   "id": "1378e10a",
   "metadata": {},
   "outputs": [],
   "source": [
    "my_age = 44"
   ]
  },
  {
   "cell_type": "code",
   "execution_count": 7,
   "id": "67c73874",
   "metadata": {},
   "outputs": [
    {
     "data": {
      "text/plain": [
       "int"
      ]
     },
     "execution_count": 7,
     "metadata": {},
     "output_type": "execute_result"
    }
   ],
   "source": [
    "type(my_age)"
   ]
  },
  {
   "cell_type": "code",
   "execution_count": 8,
   "id": "66cfe1b4",
   "metadata": {},
   "outputs": [
    {
     "data": {
      "text/plain": [
       "'LINUS'"
      ]
     },
     "execution_count": 8,
     "metadata": {},
     "output_type": "execute_result"
    }
   ],
   "source": [
    "# Anropa metoden .upper() på my_name\n",
    "my_name.upper()"
   ]
  },
  {
   "cell_type": "code",
   "execution_count": 9,
   "id": "c5729997",
   "metadata": {},
   "outputs": [
    {
     "ename": "AttributeError",
     "evalue": "'int' object has no attribute 'upper'",
     "output_type": "error",
     "traceback": [
      "\u001b[1;31m---------------------------------------------------------------------------\u001b[0m",
      "\u001b[1;31mAttributeError\u001b[0m                            Traceback (most recent call last)",
      "Cell \u001b[1;32mIn[9], line 2\u001b[0m\n\u001b[0;32m      1\u001b[0m \u001b[38;5;66;03m# Anropa metoden .upper() på my_age\u001b[39;00m\n\u001b[1;32m----> 2\u001b[0m my_age\u001b[38;5;241m.\u001b[39mupper()\n",
      "\u001b[1;31mAttributeError\u001b[0m: 'int' object has no attribute 'upper'"
     ]
    }
   ],
   "source": [
    "# Anropa metoden .upper() på my_age\n",
    "my_age.upper()"
   ]
  },
  {
   "cell_type": "code",
   "execution_count": 10,
   "id": "1588f544",
   "metadata": {},
   "outputs": [
    {
     "data": {
      "text/plain": [
       "1980"
      ]
     },
     "execution_count": 10,
     "metadata": {},
     "output_type": "execute_result"
    }
   ],
   "source": [
    "2024 - my_age"
   ]
  },
  {
   "cell_type": "code",
   "execution_count": 11,
   "id": "c2959091",
   "metadata": {},
   "outputs": [],
   "source": [
    "a = 42\n",
    "b = \"23\""
   ]
  },
  {
   "cell_type": "code",
   "execution_count": 12,
   "id": "8fdae39e",
   "metadata": {},
   "outputs": [
    {
     "data": {
      "text/plain": [
       "(int, str)"
      ]
     },
     "execution_count": 12,
     "metadata": {},
     "output_type": "execute_result"
    }
   ],
   "source": [
    "type(a), type(b)"
   ]
  },
  {
   "cell_type": "code",
   "execution_count": 13,
   "id": "5238c8a1",
   "metadata": {},
   "outputs": [
    {
     "ename": "TypeError",
     "evalue": "unsupported operand type(s) for +: 'int' and 'str'",
     "output_type": "error",
     "traceback": [
      "\u001b[1;31m---------------------------------------------------------------------------\u001b[0m",
      "\u001b[1;31mTypeError\u001b[0m                                 Traceback (most recent call last)",
      "Cell \u001b[1;32mIn[13], line 1\u001b[0m\n\u001b[1;32m----> 1\u001b[0m a \u001b[38;5;241m+\u001b[39m b\n",
      "\u001b[1;31mTypeError\u001b[0m: unsupported operand type(s) for +: 'int' and 'str'"
     ]
    }
   ],
   "source": [
    "a + b"
   ]
  },
  {
   "cell_type": "code",
   "execution_count": 14,
   "id": "e1200963",
   "metadata": {},
   "outputs": [
    {
     "data": {
      "text/plain": [
       "'232323232323232323232323232323232323232323232323232323232323232323232323232323232323'"
      ]
     },
     "execution_count": 14,
     "metadata": {},
     "output_type": "execute_result"
    }
   ],
   "source": [
    "a * b"
   ]
  },
  {
   "cell_type": "code",
   "execution_count": 15,
   "id": "4c4ba180",
   "metadata": {},
   "outputs": [
    {
     "data": {
      "text/plain": [
       "'23'"
      ]
     },
     "execution_count": 15,
     "metadata": {},
     "output_type": "execute_result"
    }
   ],
   "source": [
    "b"
   ]
  },
  {
   "cell_type": "code",
   "execution_count": 16,
   "id": "d22d33bf",
   "metadata": {},
   "outputs": [
    {
     "data": {
      "text/plain": [
       "23"
      ]
     },
     "execution_count": 16,
     "metadata": {},
     "output_type": "execute_result"
    }
   ],
   "source": [
    "int(b)"
   ]
  },
  {
   "cell_type": "code",
   "execution_count": 17,
   "id": "df70e258",
   "metadata": {},
   "outputs": [
    {
     "data": {
      "text/plain": [
       "65"
      ]
     },
     "execution_count": 17,
     "metadata": {},
     "output_type": "execute_result"
    }
   ],
   "source": [
    "a + int(b)"
   ]
  },
  {
   "cell_type": "code",
   "execution_count": 18,
   "id": "fbf99391",
   "metadata": {},
   "outputs": [
    {
     "data": {
      "text/plain": [
       "False"
      ]
     },
     "execution_count": 18,
     "metadata": {},
     "output_type": "execute_result"
    }
   ],
   "source": [
    "id(b) == id(int(b))"
   ]
  },
  {
   "cell_type": "code",
   "execution_count": 19,
   "id": "074d1cb3",
   "metadata": {},
   "outputs": [
    {
     "ename": "ValueError",
     "evalue": "invalid literal for int() with base 10: 'tjugotre'",
     "output_type": "error",
     "traceback": [
      "\u001b[1;31m---------------------------------------------------------------------------\u001b[0m",
      "\u001b[1;31mValueError\u001b[0m                                Traceback (most recent call last)",
      "Cell \u001b[1;32mIn[19], line 1\u001b[0m\n\u001b[1;32m----> 1\u001b[0m \u001b[38;5;28mint\u001b[39m(\u001b[38;5;124m\"\u001b[39m\u001b[38;5;124mtjugotre\u001b[39m\u001b[38;5;124m\"\u001b[39m)\n",
      "\u001b[1;31mValueError\u001b[0m: invalid literal for int() with base 10: 'tjugotre'"
     ]
    }
   ],
   "source": [
    "int(\"tjugotre\")"
   ]
  },
  {
   "cell_type": "code",
   "execution_count": 20,
   "id": "3a4bb402",
   "metadata": {},
   "outputs": [],
   "source": [
    "c = 2.72"
   ]
  },
  {
   "cell_type": "code",
   "execution_count": 21,
   "id": "a9d7cadc",
   "metadata": {},
   "outputs": [
    {
     "data": {
      "text/plain": [
       "float"
      ]
     },
     "execution_count": 21,
     "metadata": {},
     "output_type": "execute_result"
    }
   ],
   "source": [
    "type(c)"
   ]
  },
  {
   "cell_type": "code",
   "execution_count": 22,
   "id": "29c8686f",
   "metadata": {},
   "outputs": [
    {
     "data": {
      "text/plain": [
       "114.24000000000001"
      ]
     },
     "execution_count": 22,
     "metadata": {},
     "output_type": "execute_result"
    }
   ],
   "source": [
    "a * c"
   ]
  },
  {
   "cell_type": "markdown",
   "id": "a94dcedc",
   "metadata": {},
   "source": [
    "### `tuple` och `list`"
   ]
  },
  {
   "cell_type": "code",
   "execution_count": 23,
   "id": "795e175a",
   "metadata": {},
   "outputs": [],
   "source": [
    "my_tuple = (2, 72, 'hello', 2.27)"
   ]
  },
  {
   "cell_type": "code",
   "execution_count": 24,
   "id": "0de1abfb",
   "metadata": {},
   "outputs": [
    {
     "data": {
      "text/plain": [
       "(2, 72, 'hello', 2.27)"
      ]
     },
     "execution_count": 24,
     "metadata": {},
     "output_type": "execute_result"
    }
   ],
   "source": [
    "my_tuple"
   ]
  },
  {
   "cell_type": "code",
   "execution_count": 25,
   "id": "6da9adcd",
   "metadata": {},
   "outputs": [
    {
     "data": {
      "text/plain": [
       "tuple"
      ]
     },
     "execution_count": 25,
     "metadata": {},
     "output_type": "execute_result"
    }
   ],
   "source": [
    "type(my_tuple)"
   ]
  },
  {
   "cell_type": "markdown",
   "id": "198007ac",
   "metadata": {},
   "source": [
    "Indexering. Börjar på `0`."
   ]
  },
  {
   "cell_type": "code",
   "execution_count": 28,
   "id": "61905f99",
   "metadata": {},
   "outputs": [
    {
     "data": {
      "text/plain": [
       "2.27"
      ]
     },
     "execution_count": 28,
     "metadata": {},
     "output_type": "execute_result"
    }
   ],
   "source": [
    "my_tuple[-1]"
   ]
  },
  {
   "cell_type": "markdown",
   "id": "dfb9f5cf",
   "metadata": {},
   "source": [
    "Slicing"
   ]
  },
  {
   "cell_type": "code",
   "execution_count": 32,
   "id": "ca6d82c6",
   "metadata": {},
   "outputs": [
    {
     "data": {
      "text/plain": [
       "(72, 'hello', 2.27)"
      ]
     },
     "execution_count": 32,
     "metadata": {},
     "output_type": "execute_result"
    }
   ],
   "source": [
    "my_tuple[1:]"
   ]
  },
  {
   "cell_type": "markdown",
   "id": "8334bf32",
   "metadata": {},
   "source": [
    "`tuples` är *immutable*."
   ]
  },
  {
   "cell_type": "code",
   "execution_count": 33,
   "id": "5cfbe4f2",
   "metadata": {},
   "outputs": [
    {
     "ename": "TypeError",
     "evalue": "'tuple' object does not support item assignment",
     "output_type": "error",
     "traceback": [
      "\u001b[1;31m---------------------------------------------------------------------------\u001b[0m",
      "\u001b[1;31mTypeError\u001b[0m                                 Traceback (most recent call last)",
      "Cell \u001b[1;32mIn[33], line 1\u001b[0m\n\u001b[1;32m----> 1\u001b[0m my_tuple[\u001b[38;5;241m0\u001b[39m] \u001b[38;5;241m=\u001b[39m \u001b[38;5;241m23\u001b[39m\n",
      "\u001b[1;31mTypeError\u001b[0m: 'tuple' object does not support item assignment"
     ]
    }
   ],
   "source": [
    "my_tuple[0] = 23"
   ]
  },
  {
   "cell_type": "code",
   "execution_count": 34,
   "id": "9c27ab3b",
   "metadata": {},
   "outputs": [],
   "source": [
    "my_list = [2, 72, 'hello', 2.27]"
   ]
  },
  {
   "cell_type": "code",
   "execution_count": 35,
   "id": "8a6f2a0b",
   "metadata": {},
   "outputs": [
    {
     "data": {
      "text/plain": [
       "[2, 72, 'hello', 2.27]"
      ]
     },
     "execution_count": 35,
     "metadata": {},
     "output_type": "execute_result"
    }
   ],
   "source": [
    "my_list"
   ]
  },
  {
   "cell_type": "code",
   "execution_count": 36,
   "id": "6d417eee",
   "metadata": {},
   "outputs": [],
   "source": [
    "my_list[0] = 23"
   ]
  },
  {
   "cell_type": "code",
   "execution_count": 37,
   "id": "4430b79a",
   "metadata": {},
   "outputs": [
    {
     "data": {
      "text/plain": [
       "[23, 72, 'hello', 2.27]"
      ]
     },
     "execution_count": 37,
     "metadata": {},
     "output_type": "execute_result"
    }
   ],
   "source": [
    "my_list"
   ]
  },
  {
   "cell_type": "code",
   "execution_count": 38,
   "id": "914354b7",
   "metadata": {},
   "outputs": [],
   "source": [
    "my_list.append('last element')"
   ]
  },
  {
   "cell_type": "code",
   "execution_count": 39,
   "id": "4359e029",
   "metadata": {},
   "outputs": [
    {
     "data": {
      "text/plain": [
       "[23, 72, 'hello', 2.27, 'last element']"
      ]
     },
     "execution_count": 39,
     "metadata": {},
     "output_type": "execute_result"
    }
   ],
   "source": [
    "my_list"
   ]
  },
  {
   "cell_type": "code",
   "execution_count": 40,
   "id": "6f5b9c7d",
   "metadata": {},
   "outputs": [
    {
     "ename": "AttributeError",
     "evalue": "'tuple' object has no attribute 'append'",
     "output_type": "error",
     "traceback": [
      "\u001b[1;31m---------------------------------------------------------------------------\u001b[0m",
      "\u001b[1;31mAttributeError\u001b[0m                            Traceback (most recent call last)",
      "Cell \u001b[1;32mIn[40], line 1\u001b[0m\n\u001b[1;32m----> 1\u001b[0m my_tuple\u001b[38;5;241m.\u001b[39mappend(\u001b[38;5;124m'\u001b[39m\u001b[38;5;124mlast element\u001b[39m\u001b[38;5;124m'\u001b[39m)\n",
      "\u001b[1;31mAttributeError\u001b[0m: 'tuple' object has no attribute 'append'"
     ]
    }
   ],
   "source": [
    "my_tuple.append('last element')"
   ]
  },
  {
   "cell_type": "code",
   "execution_count": 41,
   "id": "33845766",
   "metadata": {},
   "outputs": [
    {
     "data": {
      "text/plain": [
       "1596919070016"
      ]
     },
     "execution_count": 41,
     "metadata": {},
     "output_type": "execute_result"
    }
   ],
   "source": [
    "id(my_list)"
   ]
  },
  {
   "cell_type": "code",
   "execution_count": 42,
   "id": "e23e0262",
   "metadata": {},
   "outputs": [],
   "source": [
    "my_list.append('last last element')"
   ]
  },
  {
   "cell_type": "code",
   "execution_count": 43,
   "id": "2170f310",
   "metadata": {},
   "outputs": [
    {
     "data": {
      "text/plain": [
       "1596919070016"
      ]
     },
     "execution_count": 43,
     "metadata": {},
     "output_type": "execute_result"
    }
   ],
   "source": [
    "id(my_list)"
   ]
  },
  {
   "cell_type": "code",
   "execution_count": 44,
   "id": "e1e31c03",
   "metadata": {},
   "outputs": [
    {
     "data": {
      "text/plain": [
       "140709780995864"
      ]
     },
     "execution_count": 44,
     "metadata": {},
     "output_type": "execute_result"
    }
   ],
   "source": [
    "id(my_age)"
   ]
  },
  {
   "cell_type": "code",
   "execution_count": 45,
   "id": "7e34850e",
   "metadata": {},
   "outputs": [],
   "source": [
    "my_age = my_age + 1"
   ]
  },
  {
   "cell_type": "code",
   "execution_count": 46,
   "id": "b4b90299",
   "metadata": {},
   "outputs": [
    {
     "data": {
      "text/plain": [
       "45"
      ]
     },
     "execution_count": 46,
     "metadata": {},
     "output_type": "execute_result"
    }
   ],
   "source": [
    "my_age"
   ]
  },
  {
   "cell_type": "code",
   "execution_count": 47,
   "id": "f0c43a18",
   "metadata": {},
   "outputs": [
    {
     "data": {
      "text/plain": [
       "140709780995896"
      ]
     },
     "execution_count": 47,
     "metadata": {},
     "output_type": "execute_result"
    }
   ],
   "source": [
    "id(my_age)"
   ]
  },
  {
   "cell_type": "code",
   "execution_count": 48,
   "id": "bf608561",
   "metadata": {},
   "outputs": [],
   "source": [
    "my_list.insert(0, 'first element')"
   ]
  },
  {
   "cell_type": "code",
   "execution_count": 49,
   "id": "8897e5be",
   "metadata": {},
   "outputs": [
    {
     "data": {
      "text/plain": [
       "['first element', 23, 72, 'hello', 2.27, 'last element', 'last last element']"
      ]
     },
     "execution_count": 49,
     "metadata": {},
     "output_type": "execute_result"
    }
   ],
   "source": [
    "my_list"
   ]
  },
  {
   "cell_type": "code",
   "execution_count": 50,
   "id": "eae4daae",
   "metadata": {},
   "outputs": [],
   "source": [
    "my_list.remove('hello')"
   ]
  },
  {
   "cell_type": "code",
   "execution_count": 51,
   "id": "22273110",
   "metadata": {},
   "outputs": [
    {
     "data": {
      "text/plain": [
       "['first element', 23, 72, 2.27, 'last element', 'last last element']"
      ]
     },
     "execution_count": 51,
     "metadata": {},
     "output_type": "execute_result"
    }
   ],
   "source": [
    "my_list"
   ]
  },
  {
   "cell_type": "code",
   "execution_count": 52,
   "id": "f463051a",
   "metadata": {},
   "outputs": [
    {
     "ename": "ValueError",
     "evalue": "list.remove(x): x not in list",
     "output_type": "error",
     "traceback": [
      "\u001b[1;31m---------------------------------------------------------------------------\u001b[0m",
      "\u001b[1;31mValueError\u001b[0m                                Traceback (most recent call last)",
      "Cell \u001b[1;32mIn[52], line 1\u001b[0m\n\u001b[1;32m----> 1\u001b[0m my_list\u001b[38;5;241m.\u001b[39mremove(\u001b[38;5;241m1014\u001b[39m)\n",
      "\u001b[1;31mValueError\u001b[0m: list.remove(x): x not in list"
     ]
    }
   ],
   "source": [
    "my_list.remove(1014)"
   ]
  },
  {
   "cell_type": "code",
   "execution_count": 53,
   "id": "c7f6940c",
   "metadata": {},
   "outputs": [
    {
     "data": {
      "text/plain": [
       "'last element'"
      ]
     },
     "execution_count": 53,
     "metadata": {},
     "output_type": "execute_result"
    }
   ],
   "source": [
    "my_list.pop(4)"
   ]
  },
  {
   "cell_type": "code",
   "execution_count": 54,
   "id": "7218b8c6",
   "metadata": {},
   "outputs": [
    {
     "data": {
      "text/plain": [
       "['first element', 23, 72, 2.27, 'last last element']"
      ]
     },
     "execution_count": 54,
     "metadata": {},
     "output_type": "execute_result"
    }
   ],
   "source": [
    "my_list"
   ]
  },
  {
   "cell_type": "code",
   "execution_count": 55,
   "id": "f0325e55",
   "metadata": {},
   "outputs": [
    {
     "ename": "IndexError",
     "evalue": "pop index out of range",
     "output_type": "error",
     "traceback": [
      "\u001b[1;31m---------------------------------------------------------------------------\u001b[0m",
      "\u001b[1;31mIndexError\u001b[0m                                Traceback (most recent call last)",
      "Cell \u001b[1;32mIn[55], line 1\u001b[0m\n\u001b[1;32m----> 1\u001b[0m my_list\u001b[38;5;241m.\u001b[39mpop(\u001b[38;5;241m24\u001b[39m)\n",
      "\u001b[1;31mIndexError\u001b[0m: pop index out of range"
     ]
    }
   ],
   "source": [
    "my_list.pop(24)"
   ]
  },
  {
   "cell_type": "markdown",
   "id": "52bd0093",
   "metadata": {},
   "source": [
    "### `dict`"
   ]
  },
  {
   "cell_type": "markdown",
   "id": "0d0c9af2",
   "metadata": {},
   "source": [
    "En `dict` (*dictionary*) består av nyckel-värde-par (*key-value pairs*). De definieras inom `{}`."
   ]
  },
  {
   "cell_type": "code",
   "execution_count": null,
   "id": "83a51291",
   "metadata": {},
   "outputs": [],
   "source": [
    "my_dict = {'key': 'value'}"
   ]
  },
  {
   "cell_type": "code",
   "execution_count": null,
   "id": "9734c129",
   "metadata": {},
   "outputs": [],
   "source": [
    "type(my_dict)"
   ]
  },
  {
   "cell_type": "code",
   "execution_count": null,
   "id": "fed5ae2f",
   "metadata": {},
   "outputs": [],
   "source": [
    "my_dict['key']"
   ]
  },
  {
   "cell_type": "code",
   "execution_count": null,
   "id": "3ea6015f",
   "metadata": {},
   "outputs": [],
   "source": [
    "shopping_list = {'tomatoes': 8, 'onions': 6, 'potatoes': 10}"
   ]
  },
  {
   "cell_type": "code",
   "execution_count": null,
   "id": "d15c1483",
   "metadata": {},
   "outputs": [],
   "source": [
    "shopping_list['tomatoes']"
   ]
  },
  {
   "cell_type": "code",
   "execution_count": null,
   "id": "a0924889",
   "metadata": {},
   "outputs": [],
   "source": [
    "shopping_list.keys()"
   ]
  },
  {
   "cell_type": "code",
   "execution_count": null,
   "id": "091add46",
   "metadata": {},
   "outputs": [],
   "source": [
    "shopping_list.values()"
   ]
  },
  {
   "cell_type": "code",
   "execution_count": null,
   "id": "ac094fdb",
   "metadata": {},
   "outputs": [],
   "source": [
    "shopping_list.items()"
   ]
  },
  {
   "cell_type": "code",
   "execution_count": null,
   "id": "264a3588",
   "metadata": {},
   "outputs": [],
   "source": [
    "shopping_list['beans'] = 12"
   ]
  },
  {
   "cell_type": "code",
   "execution_count": null,
   "id": "f3dc2b54",
   "metadata": {},
   "outputs": [],
   "source": [
    "shopping_list"
   ]
  },
  {
   "cell_type": "code",
   "execution_count": null,
   "id": "d0809b4d",
   "metadata": {},
   "outputs": [],
   "source": [
    "shopping_list['beans'] = 18"
   ]
  },
  {
   "cell_type": "code",
   "execution_count": null,
   "id": "fe1a239f",
   "metadata": {},
   "outputs": [],
   "source": [
    "shopping_list"
   ]
  },
  {
   "cell_type": "code",
   "execution_count": null,
   "id": "154877ed",
   "metadata": {},
   "outputs": [],
   "source": [
    "data = {'names': ['Linus', 'Petter', 'Karl'], 'ages': [44, 42, 38]}"
   ]
  },
  {
   "cell_type": "code",
   "execution_count": null,
   "id": "d7801290",
   "metadata": {},
   "outputs": [],
   "source": [
    "matrix = [[0, 2, 4],\n",
    "          [5, 3, 6],\n",
    "          [8, 7, 2]]"
   ]
  },
  {
   "cell_type": "markdown",
   "id": "59f12de6",
   "metadata": {},
   "source": [
    "## `set`"
   ]
  },
  {
   "cell_type": "code",
   "execution_count": null,
   "id": "b3c92371",
   "metadata": {},
   "outputs": [],
   "source": [
    "my_list_2 = [2, 45, 65, 21, 21, 2, 89]"
   ]
  },
  {
   "cell_type": "code",
   "execution_count": null,
   "id": "8c497592",
   "metadata": {},
   "outputs": [],
   "source": [
    "my_set = set(my_list_2)"
   ]
  },
  {
   "cell_type": "code",
   "execution_count": null,
   "id": "4f2364fe",
   "metadata": {},
   "outputs": [],
   "source": [
    "a = 21\n",
    "b = 21\n",
    "\n",
    "id(a) == id(b)"
   ]
  },
  {
   "cell_type": "code",
   "execution_count": null,
   "id": "6d88be37",
   "metadata": {},
   "outputs": [],
   "source": [
    "A = {1, 2, 4, 6, 7}\n",
    "B = {1, 5, 12, 7}"
   ]
  },
  {
   "cell_type": "code",
   "execution_count": null,
   "id": "2d5cfb90",
   "metadata": {},
   "outputs": [],
   "source": [
    "A.union(B)"
   ]
  },
  {
   "cell_type": "code",
   "execution_count": null,
   "id": "0423d65c",
   "metadata": {},
   "outputs": [],
   "source": [
    "A.intersection(B)"
   ]
  },
  {
   "cell_type": "code",
   "execution_count": null,
   "id": "a7e20a43",
   "metadata": {},
   "outputs": [],
   "source": []
  }
 ],
 "metadata": {
  "kernelspec": {
   "display_name": "Python 3 (ipykernel)",
   "language": "python",
   "name": "python3"
  },
  "language_info": {
   "codemirror_mode": {
    "name": "ipython",
    "version": 3
   },
   "file_extension": ".py",
   "mimetype": "text/x-python",
   "name": "python",
   "nbconvert_exporter": "python",
   "pygments_lexer": "ipython3",
   "version": "3.12.4"
  }
 },
 "nbformat": 4,
 "nbformat_minor": 5
}
